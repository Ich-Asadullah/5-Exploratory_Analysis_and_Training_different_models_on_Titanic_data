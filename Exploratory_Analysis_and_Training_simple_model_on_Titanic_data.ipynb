{
  "nbformat": 4,
  "nbformat_minor": 0,
  "metadata": {
    "colab": {
      "provenance": [],
      "collapsed_sections": [
        "UWJBt5gf3Fx7"
      ]
    },
    "kernelspec": {
      "name": "python3",
      "display_name": "Python 3"
    },
    "language_info": {
      "name": "python"
    }
  },
  "cells": [
    {
      "cell_type": "markdown",
      "source": [
        "# Exploratory Analysis and Training simple model on Titanic data"
      ],
      "metadata": {
        "id": "Tnm2KX9c1zNM"
      }
    },
    {
      "cell_type": "code",
      "execution_count": 2,
      "metadata": {
        "id": "_xojVr-Sl8ek"
      },
      "outputs": [],
      "source": [
        "from sklearn.datasets import fetch_openml\n",
        "import pandas as pd\n",
        "import matplotlib.pyplot as plt"
      ]
    },
    {
      "cell_type": "markdown",
      "source": [
        "## Exploratory Analysis (Data Cleaning)"
      ],
      "metadata": {
        "id": "ouoxo5Wb2JT4"
      }
    },
    {
      "cell_type": "code",
      "source": [
        "data = fetch_openml('titanic', version=1, as_frame=True)"
      ],
      "metadata": {
        "colab": {
          "base_uri": "https://localhost:8080/"
        },
        "id": "suJgPAI7mfyL",
        "outputId": "6171082f-dc0c-483f-e6ee-d97e65135426"
      },
      "execution_count": 3,
      "outputs": [
        {
          "output_type": "stream",
          "name": "stderr",
          "text": [
            "/usr/local/lib/python3.10/dist-packages/sklearn/datasets/_openml.py:968: FutureWarning: The default value of `parser` will change from `'liac-arff'` to `'auto'` in 1.4. You can set `parser='auto'` to silence this warning. Therefore, an `ImportError` will be raised from 1.4 if the dataset is dense and pandas is not installed. Note that the pandas parser may return different data types. See the Notes Section in fetch_openml's API doc for details.\n",
            "  warn(\n"
          ]
        }
      ]
    },
    {
      "cell_type": "code",
      "source": [
        "df = data['data']"
      ],
      "metadata": {
        "id": "8_y_2IjtmnTU"
      },
      "execution_count": 31,
      "outputs": []
    },
    {
      "cell_type": "code",
      "source": [
        "df"
      ],
      "metadata": {
        "colab": {
          "base_uri": "https://localhost:8080/",
          "height": 562
        },
        "id": "Rfwca0pPmv4N",
        "outputId": "ff0c78d0-7c88-4b6d-89b9-e5e31a7c1655"
      },
      "execution_count": 32,
      "outputs": [
        {
          "output_type": "execute_result",
          "data": {
            "text/plain": [
              "      pclass                                             name     sex  \\\n",
              "0        1.0                    Allen, Miss. Elisabeth Walton  female   \n",
              "1        1.0                   Allison, Master. Hudson Trevor    male   \n",
              "2        1.0                     Allison, Miss. Helen Loraine  female   \n",
              "3        1.0             Allison, Mr. Hudson Joshua Creighton    male   \n",
              "4        1.0  Allison, Mrs. Hudson J C (Bessie Waldo Daniels)  female   \n",
              "...      ...                                              ...     ...   \n",
              "1304     3.0                             Zabour, Miss. Hileni  female   \n",
              "1305     3.0                            Zabour, Miss. Thamine  female   \n",
              "1306     3.0                        Zakarian, Mr. Mapriededer    male   \n",
              "1307     3.0                              Zakarian, Mr. Ortin    male   \n",
              "1308     3.0                               Zimmerman, Mr. Leo    male   \n",
              "\n",
              "          age  sibsp  parch  ticket      fare    cabin embarked  boat   body  \\\n",
              "0     29.0000    0.0    0.0   24160  211.3375       B5        S     2   None   \n",
              "1      0.9167    1.0    2.0  113781  151.5500  C22 C26        S    11    NaN   \n",
              "2      2.0000    1.0    2.0  113781  151.5500  C22 C26        S  None    NaN   \n",
              "3     30.0000    1.0    2.0  113781  151.5500  C22 C26        S  None  135.0   \n",
              "4     25.0000    1.0    2.0  113781  151.5500  C22 C26        S  None    NaN   \n",
              "...       ...    ...    ...     ...       ...      ...      ...   ...    ...   \n",
              "1304  14.5000    1.0    0.0    2665   14.4542     None        C  None  328.0   \n",
              "1305      NaN    1.0    0.0    2665   14.4542     None        C  None    NaN   \n",
              "1306  26.5000    0.0    0.0    2656    7.2250     None        C  None  304.0   \n",
              "1307  27.0000    0.0    0.0    2670    7.2250     None        C  None    NaN   \n",
              "1308  29.0000    0.0    0.0  315082    7.8750     None        S  None    NaN   \n",
              "\n",
              "                            home.dest  \n",
              "0                        St Louis, MO  \n",
              "1     Montreal, PQ / Chesterville, ON  \n",
              "2     Montreal, PQ / Chesterville, ON  \n",
              "3     Montreal, PQ / Chesterville, ON  \n",
              "4     Montreal, PQ / Chesterville, ON  \n",
              "...                               ...  \n",
              "1304                             None  \n",
              "1305                             None  \n",
              "1306                             None  \n",
              "1307                             None  \n",
              "1308                             None  \n",
              "\n",
              "[1309 rows x 13 columns]"
            ],
            "text/html": [
              "\n",
              "  <div id=\"df-f3e0a60c-960c-4256-a16b-d8663f5922cd\" class=\"colab-df-container\">\n",
              "    <div>\n",
              "<style scoped>\n",
              "    .dataframe tbody tr th:only-of-type {\n",
              "        vertical-align: middle;\n",
              "    }\n",
              "\n",
              "    .dataframe tbody tr th {\n",
              "        vertical-align: top;\n",
              "    }\n",
              "\n",
              "    .dataframe thead th {\n",
              "        text-align: right;\n",
              "    }\n",
              "</style>\n",
              "<table border=\"1\" class=\"dataframe\">\n",
              "  <thead>\n",
              "    <tr style=\"text-align: right;\">\n",
              "      <th></th>\n",
              "      <th>pclass</th>\n",
              "      <th>name</th>\n",
              "      <th>sex</th>\n",
              "      <th>age</th>\n",
              "      <th>sibsp</th>\n",
              "      <th>parch</th>\n",
              "      <th>ticket</th>\n",
              "      <th>fare</th>\n",
              "      <th>cabin</th>\n",
              "      <th>embarked</th>\n",
              "      <th>boat</th>\n",
              "      <th>body</th>\n",
              "      <th>home.dest</th>\n",
              "    </tr>\n",
              "  </thead>\n",
              "  <tbody>\n",
              "    <tr>\n",
              "      <th>0</th>\n",
              "      <td>1.0</td>\n",
              "      <td>Allen, Miss. Elisabeth Walton</td>\n",
              "      <td>female</td>\n",
              "      <td>29.0000</td>\n",
              "      <td>0.0</td>\n",
              "      <td>0.0</td>\n",
              "      <td>24160</td>\n",
              "      <td>211.3375</td>\n",
              "      <td>B5</td>\n",
              "      <td>S</td>\n",
              "      <td>2</td>\n",
              "      <td>None</td>\n",
              "      <td>St Louis, MO</td>\n",
              "    </tr>\n",
              "    <tr>\n",
              "      <th>1</th>\n",
              "      <td>1.0</td>\n",
              "      <td>Allison, Master. Hudson Trevor</td>\n",
              "      <td>male</td>\n",
              "      <td>0.9167</td>\n",
              "      <td>1.0</td>\n",
              "      <td>2.0</td>\n",
              "      <td>113781</td>\n",
              "      <td>151.5500</td>\n",
              "      <td>C22 C26</td>\n",
              "      <td>S</td>\n",
              "      <td>11</td>\n",
              "      <td>NaN</td>\n",
              "      <td>Montreal, PQ / Chesterville, ON</td>\n",
              "    </tr>\n",
              "    <tr>\n",
              "      <th>2</th>\n",
              "      <td>1.0</td>\n",
              "      <td>Allison, Miss. Helen Loraine</td>\n",
              "      <td>female</td>\n",
              "      <td>2.0000</td>\n",
              "      <td>1.0</td>\n",
              "      <td>2.0</td>\n",
              "      <td>113781</td>\n",
              "      <td>151.5500</td>\n",
              "      <td>C22 C26</td>\n",
              "      <td>S</td>\n",
              "      <td>None</td>\n",
              "      <td>NaN</td>\n",
              "      <td>Montreal, PQ / Chesterville, ON</td>\n",
              "    </tr>\n",
              "    <tr>\n",
              "      <th>3</th>\n",
              "      <td>1.0</td>\n",
              "      <td>Allison, Mr. Hudson Joshua Creighton</td>\n",
              "      <td>male</td>\n",
              "      <td>30.0000</td>\n",
              "      <td>1.0</td>\n",
              "      <td>2.0</td>\n",
              "      <td>113781</td>\n",
              "      <td>151.5500</td>\n",
              "      <td>C22 C26</td>\n",
              "      <td>S</td>\n",
              "      <td>None</td>\n",
              "      <td>135.0</td>\n",
              "      <td>Montreal, PQ / Chesterville, ON</td>\n",
              "    </tr>\n",
              "    <tr>\n",
              "      <th>4</th>\n",
              "      <td>1.0</td>\n",
              "      <td>Allison, Mrs. Hudson J C (Bessie Waldo Daniels)</td>\n",
              "      <td>female</td>\n",
              "      <td>25.0000</td>\n",
              "      <td>1.0</td>\n",
              "      <td>2.0</td>\n",
              "      <td>113781</td>\n",
              "      <td>151.5500</td>\n",
              "      <td>C22 C26</td>\n",
              "      <td>S</td>\n",
              "      <td>None</td>\n",
              "      <td>NaN</td>\n",
              "      <td>Montreal, PQ / Chesterville, ON</td>\n",
              "    </tr>\n",
              "    <tr>\n",
              "      <th>...</th>\n",
              "      <td>...</td>\n",
              "      <td>...</td>\n",
              "      <td>...</td>\n",
              "      <td>...</td>\n",
              "      <td>...</td>\n",
              "      <td>...</td>\n",
              "      <td>...</td>\n",
              "      <td>...</td>\n",
              "      <td>...</td>\n",
              "      <td>...</td>\n",
              "      <td>...</td>\n",
              "      <td>...</td>\n",
              "      <td>...</td>\n",
              "    </tr>\n",
              "    <tr>\n",
              "      <th>1304</th>\n",
              "      <td>3.0</td>\n",
              "      <td>Zabour, Miss. Hileni</td>\n",
              "      <td>female</td>\n",
              "      <td>14.5000</td>\n",
              "      <td>1.0</td>\n",
              "      <td>0.0</td>\n",
              "      <td>2665</td>\n",
              "      <td>14.4542</td>\n",
              "      <td>None</td>\n",
              "      <td>C</td>\n",
              "      <td>None</td>\n",
              "      <td>328.0</td>\n",
              "      <td>None</td>\n",
              "    </tr>\n",
              "    <tr>\n",
              "      <th>1305</th>\n",
              "      <td>3.0</td>\n",
              "      <td>Zabour, Miss. Thamine</td>\n",
              "      <td>female</td>\n",
              "      <td>NaN</td>\n",
              "      <td>1.0</td>\n",
              "      <td>0.0</td>\n",
              "      <td>2665</td>\n",
              "      <td>14.4542</td>\n",
              "      <td>None</td>\n",
              "      <td>C</td>\n",
              "      <td>None</td>\n",
              "      <td>NaN</td>\n",
              "      <td>None</td>\n",
              "    </tr>\n",
              "    <tr>\n",
              "      <th>1306</th>\n",
              "      <td>3.0</td>\n",
              "      <td>Zakarian, Mr. Mapriededer</td>\n",
              "      <td>male</td>\n",
              "      <td>26.5000</td>\n",
              "      <td>0.0</td>\n",
              "      <td>0.0</td>\n",
              "      <td>2656</td>\n",
              "      <td>7.2250</td>\n",
              "      <td>None</td>\n",
              "      <td>C</td>\n",
              "      <td>None</td>\n",
              "      <td>304.0</td>\n",
              "      <td>None</td>\n",
              "    </tr>\n",
              "    <tr>\n",
              "      <th>1307</th>\n",
              "      <td>3.0</td>\n",
              "      <td>Zakarian, Mr. Ortin</td>\n",
              "      <td>male</td>\n",
              "      <td>27.0000</td>\n",
              "      <td>0.0</td>\n",
              "      <td>0.0</td>\n",
              "      <td>2670</td>\n",
              "      <td>7.2250</td>\n",
              "      <td>None</td>\n",
              "      <td>C</td>\n",
              "      <td>None</td>\n",
              "      <td>NaN</td>\n",
              "      <td>None</td>\n",
              "    </tr>\n",
              "    <tr>\n",
              "      <th>1308</th>\n",
              "      <td>3.0</td>\n",
              "      <td>Zimmerman, Mr. Leo</td>\n",
              "      <td>male</td>\n",
              "      <td>29.0000</td>\n",
              "      <td>0.0</td>\n",
              "      <td>0.0</td>\n",
              "      <td>315082</td>\n",
              "      <td>7.8750</td>\n",
              "      <td>None</td>\n",
              "      <td>S</td>\n",
              "      <td>None</td>\n",
              "      <td>NaN</td>\n",
              "      <td>None</td>\n",
              "    </tr>\n",
              "  </tbody>\n",
              "</table>\n",
              "<p>1309 rows × 13 columns</p>\n",
              "</div>\n",
              "    <div class=\"colab-df-buttons\">\n",
              "\n",
              "  <div class=\"colab-df-container\">\n",
              "    <button class=\"colab-df-convert\" onclick=\"convertToInteractive('df-f3e0a60c-960c-4256-a16b-d8663f5922cd')\"\n",
              "            title=\"Convert this dataframe to an interactive table.\"\n",
              "            style=\"display:none;\">\n",
              "\n",
              "  <svg xmlns=\"http://www.w3.org/2000/svg\" height=\"24px\" viewBox=\"0 -960 960 960\">\n",
              "    <path d=\"M120-120v-720h720v720H120Zm60-500h600v-160H180v160Zm220 220h160v-160H400v160Zm0 220h160v-160H400v160ZM180-400h160v-160H180v160Zm440 0h160v-160H620v160ZM180-180h160v-160H180v160Zm440 0h160v-160H620v160Z\"/>\n",
              "  </svg>\n",
              "    </button>\n",
              "\n",
              "  <style>\n",
              "    .colab-df-container {\n",
              "      display:flex;\n",
              "      gap: 12px;\n",
              "    }\n",
              "\n",
              "    .colab-df-convert {\n",
              "      background-color: #E8F0FE;\n",
              "      border: none;\n",
              "      border-radius: 50%;\n",
              "      cursor: pointer;\n",
              "      display: none;\n",
              "      fill: #1967D2;\n",
              "      height: 32px;\n",
              "      padding: 0 0 0 0;\n",
              "      width: 32px;\n",
              "    }\n",
              "\n",
              "    .colab-df-convert:hover {\n",
              "      background-color: #E2EBFA;\n",
              "      box-shadow: 0px 1px 2px rgba(60, 64, 67, 0.3), 0px 1px 3px 1px rgba(60, 64, 67, 0.15);\n",
              "      fill: #174EA6;\n",
              "    }\n",
              "\n",
              "    .colab-df-buttons div {\n",
              "      margin-bottom: 4px;\n",
              "    }\n",
              "\n",
              "    [theme=dark] .colab-df-convert {\n",
              "      background-color: #3B4455;\n",
              "      fill: #D2E3FC;\n",
              "    }\n",
              "\n",
              "    [theme=dark] .colab-df-convert:hover {\n",
              "      background-color: #434B5C;\n",
              "      box-shadow: 0px 1px 3px 1px rgba(0, 0, 0, 0.15);\n",
              "      filter: drop-shadow(0px 1px 2px rgba(0, 0, 0, 0.3));\n",
              "      fill: #FFFFFF;\n",
              "    }\n",
              "  </style>\n",
              "\n",
              "    <script>\n",
              "      const buttonEl =\n",
              "        document.querySelector('#df-f3e0a60c-960c-4256-a16b-d8663f5922cd button.colab-df-convert');\n",
              "      buttonEl.style.display =\n",
              "        google.colab.kernel.accessAllowed ? 'block' : 'none';\n",
              "\n",
              "      async function convertToInteractive(key) {\n",
              "        const element = document.querySelector('#df-f3e0a60c-960c-4256-a16b-d8663f5922cd');\n",
              "        const dataTable =\n",
              "          await google.colab.kernel.invokeFunction('convertToInteractive',\n",
              "                                                    [key], {});\n",
              "        if (!dataTable) return;\n",
              "\n",
              "        const docLinkHtml = 'Like what you see? Visit the ' +\n",
              "          '<a target=\"_blank\" href=https://colab.research.google.com/notebooks/data_table.ipynb>data table notebook</a>'\n",
              "          + ' to learn more about interactive tables.';\n",
              "        element.innerHTML = '';\n",
              "        dataTable['output_type'] = 'display_data';\n",
              "        await google.colab.output.renderOutput(dataTable, element);\n",
              "        const docLink = document.createElement('div');\n",
              "        docLink.innerHTML = docLinkHtml;\n",
              "        element.appendChild(docLink);\n",
              "      }\n",
              "    </script>\n",
              "  </div>\n",
              "\n",
              "\n",
              "<div id=\"df-1d0ada8d-279a-4b4d-959f-0e6568a505d8\">\n",
              "  <button class=\"colab-df-quickchart\" onclick=\"quickchart('df-1d0ada8d-279a-4b4d-959f-0e6568a505d8')\"\n",
              "            title=\"Suggest charts\"\n",
              "            style=\"display:none;\">\n",
              "\n",
              "<svg xmlns=\"http://www.w3.org/2000/svg\" height=\"24px\"viewBox=\"0 0 24 24\"\n",
              "     width=\"24px\">\n",
              "    <g>\n",
              "        <path d=\"M19 3H5c-1.1 0-2 .9-2 2v14c0 1.1.9 2 2 2h14c1.1 0 2-.9 2-2V5c0-1.1-.9-2-2-2zM9 17H7v-7h2v7zm4 0h-2V7h2v10zm4 0h-2v-4h2v4z\"/>\n",
              "    </g>\n",
              "</svg>\n",
              "  </button>\n",
              "\n",
              "<style>\n",
              "  .colab-df-quickchart {\n",
              "      --bg-color: #E8F0FE;\n",
              "      --fill-color: #1967D2;\n",
              "      --hover-bg-color: #E2EBFA;\n",
              "      --hover-fill-color: #174EA6;\n",
              "      --disabled-fill-color: #AAA;\n",
              "      --disabled-bg-color: #DDD;\n",
              "  }\n",
              "\n",
              "  [theme=dark] .colab-df-quickchart {\n",
              "      --bg-color: #3B4455;\n",
              "      --fill-color: #D2E3FC;\n",
              "      --hover-bg-color: #434B5C;\n",
              "      --hover-fill-color: #FFFFFF;\n",
              "      --disabled-bg-color: #3B4455;\n",
              "      --disabled-fill-color: #666;\n",
              "  }\n",
              "\n",
              "  .colab-df-quickchart {\n",
              "    background-color: var(--bg-color);\n",
              "    border: none;\n",
              "    border-radius: 50%;\n",
              "    cursor: pointer;\n",
              "    display: none;\n",
              "    fill: var(--fill-color);\n",
              "    height: 32px;\n",
              "    padding: 0;\n",
              "    width: 32px;\n",
              "  }\n",
              "\n",
              "  .colab-df-quickchart:hover {\n",
              "    background-color: var(--hover-bg-color);\n",
              "    box-shadow: 0 1px 2px rgba(60, 64, 67, 0.3), 0 1px 3px 1px rgba(60, 64, 67, 0.15);\n",
              "    fill: var(--button-hover-fill-color);\n",
              "  }\n",
              "\n",
              "  .colab-df-quickchart-complete:disabled,\n",
              "  .colab-df-quickchart-complete:disabled:hover {\n",
              "    background-color: var(--disabled-bg-color);\n",
              "    fill: var(--disabled-fill-color);\n",
              "    box-shadow: none;\n",
              "  }\n",
              "\n",
              "  .colab-df-spinner {\n",
              "    border: 2px solid var(--fill-color);\n",
              "    border-color: transparent;\n",
              "    border-bottom-color: var(--fill-color);\n",
              "    animation:\n",
              "      spin 1s steps(1) infinite;\n",
              "  }\n",
              "\n",
              "  @keyframes spin {\n",
              "    0% {\n",
              "      border-color: transparent;\n",
              "      border-bottom-color: var(--fill-color);\n",
              "      border-left-color: var(--fill-color);\n",
              "    }\n",
              "    20% {\n",
              "      border-color: transparent;\n",
              "      border-left-color: var(--fill-color);\n",
              "      border-top-color: var(--fill-color);\n",
              "    }\n",
              "    30% {\n",
              "      border-color: transparent;\n",
              "      border-left-color: var(--fill-color);\n",
              "      border-top-color: var(--fill-color);\n",
              "      border-right-color: var(--fill-color);\n",
              "    }\n",
              "    40% {\n",
              "      border-color: transparent;\n",
              "      border-right-color: var(--fill-color);\n",
              "      border-top-color: var(--fill-color);\n",
              "    }\n",
              "    60% {\n",
              "      border-color: transparent;\n",
              "      border-right-color: var(--fill-color);\n",
              "    }\n",
              "    80% {\n",
              "      border-color: transparent;\n",
              "      border-right-color: var(--fill-color);\n",
              "      border-bottom-color: var(--fill-color);\n",
              "    }\n",
              "    90% {\n",
              "      border-color: transparent;\n",
              "      border-bottom-color: var(--fill-color);\n",
              "    }\n",
              "  }\n",
              "</style>\n",
              "\n",
              "  <script>\n",
              "    async function quickchart(key) {\n",
              "      const quickchartButtonEl =\n",
              "        document.querySelector('#' + key + ' button');\n",
              "      quickchartButtonEl.disabled = true;  // To prevent multiple clicks.\n",
              "      quickchartButtonEl.classList.add('colab-df-spinner');\n",
              "      try {\n",
              "        const charts = await google.colab.kernel.invokeFunction(\n",
              "            'suggestCharts', [key], {});\n",
              "      } catch (error) {\n",
              "        console.error('Error during call to suggestCharts:', error);\n",
              "      }\n",
              "      quickchartButtonEl.classList.remove('colab-df-spinner');\n",
              "      quickchartButtonEl.classList.add('colab-df-quickchart-complete');\n",
              "    }\n",
              "    (() => {\n",
              "      let quickchartButtonEl =\n",
              "        document.querySelector('#df-1d0ada8d-279a-4b4d-959f-0e6568a505d8 button');\n",
              "      quickchartButtonEl.style.display =\n",
              "        google.colab.kernel.accessAllowed ? 'block' : 'none';\n",
              "    })();\n",
              "  </script>\n",
              "</div>\n",
              "\n",
              "  <div id=\"id_df530d2d-3b70-4f96-818f-ff90a064f954\">\n",
              "    <style>\n",
              "      .colab-df-generate {\n",
              "        background-color: #E8F0FE;\n",
              "        border: none;\n",
              "        border-radius: 50%;\n",
              "        cursor: pointer;\n",
              "        display: none;\n",
              "        fill: #1967D2;\n",
              "        height: 32px;\n",
              "        padding: 0 0 0 0;\n",
              "        width: 32px;\n",
              "      }\n",
              "\n",
              "      .colab-df-generate:hover {\n",
              "        background-color: #E2EBFA;\n",
              "        box-shadow: 0px 1px 2px rgba(60, 64, 67, 0.3), 0px 1px 3px 1px rgba(60, 64, 67, 0.15);\n",
              "        fill: #174EA6;\n",
              "      }\n",
              "\n",
              "      [theme=dark] .colab-df-generate {\n",
              "        background-color: #3B4455;\n",
              "        fill: #D2E3FC;\n",
              "      }\n",
              "\n",
              "      [theme=dark] .colab-df-generate:hover {\n",
              "        background-color: #434B5C;\n",
              "        box-shadow: 0px 1px 3px 1px rgba(0, 0, 0, 0.15);\n",
              "        filter: drop-shadow(0px 1px 2px rgba(0, 0, 0, 0.3));\n",
              "        fill: #FFFFFF;\n",
              "      }\n",
              "    </style>\n",
              "    <button class=\"colab-df-generate\" onclick=\"generateWithVariable('df')\"\n",
              "            title=\"Generate code using this dataframe.\"\n",
              "            style=\"display:none;\">\n",
              "\n",
              "  <svg xmlns=\"http://www.w3.org/2000/svg\" height=\"24px\"viewBox=\"0 0 24 24\"\n",
              "       width=\"24px\">\n",
              "    <path d=\"M7,19H8.4L18.45,9,17,7.55,7,17.6ZM5,21V16.75L18.45,3.32a2,2,0,0,1,2.83,0l1.4,1.43a1.91,1.91,0,0,1,.58,1.4,1.91,1.91,0,0,1-.58,1.4L9.25,21ZM18.45,9,17,7.55Zm-12,3A5.31,5.31,0,0,0,4.9,8.1,5.31,5.31,0,0,0,1,6.5,5.31,5.31,0,0,0,4.9,4.9,5.31,5.31,0,0,0,6.5,1,5.31,5.31,0,0,0,8.1,4.9,5.31,5.31,0,0,0,12,6.5,5.46,5.46,0,0,0,6.5,12Z\"/>\n",
              "  </svg>\n",
              "    </button>\n",
              "    <script>\n",
              "      (() => {\n",
              "      const buttonEl =\n",
              "        document.querySelector('#id_df530d2d-3b70-4f96-818f-ff90a064f954 button.colab-df-generate');\n",
              "      buttonEl.style.display =\n",
              "        google.colab.kernel.accessAllowed ? 'block' : 'none';\n",
              "\n",
              "      buttonEl.onclick = () => {\n",
              "        google.colab.notebook.generateWithVariable('df');\n",
              "      }\n",
              "      })();\n",
              "    </script>\n",
              "  </div>\n",
              "\n",
              "    </div>\n",
              "  </div>\n"
            ],
            "application/vnd.google.colaboratory.intrinsic+json": {
              "type": "dataframe",
              "variable_name": "df",
              "summary": "{\n  \"name\": \"df\",\n  \"rows\": 1309,\n  \"fields\": [\n    {\n      \"column\": \"pclass\",\n      \"properties\": {\n        \"dtype\": \"number\",\n        \"std\": 0.8378360189701274,\n        \"min\": 1.0,\n        \"max\": 3.0,\n        \"num_unique_values\": 3,\n        \"samples\": [\n          1.0,\n          2.0,\n          3.0\n        ],\n        \"semantic_type\": \"\",\n        \"description\": \"\"\n      }\n    },\n    {\n      \"column\": \"name\",\n      \"properties\": {\n        \"dtype\": \"string\",\n        \"num_unique_values\": 1307,\n        \"samples\": [\n          \"Saade, Mr. Jean Nassr\",\n          \"Nakid, Mr. Sahid\",\n          \"Emanuel, Miss. Virginia Ethel\"\n        ],\n        \"semantic_type\": \"\",\n        \"description\": \"\"\n      }\n    },\n    {\n      \"column\": \"sex\",\n      \"properties\": {\n        \"dtype\": \"category\",\n        \"num_unique_values\": 2,\n        \"samples\": [\n          \"male\",\n          \"female\"\n        ],\n        \"semantic_type\": \"\",\n        \"description\": \"\"\n      }\n    },\n    {\n      \"column\": \"age\",\n      \"properties\": {\n        \"dtype\": \"number\",\n        \"std\": 14.413499699923602,\n        \"min\": 0.1667,\n        \"max\": 80.0,\n        \"num_unique_values\": 98,\n        \"samples\": [\n          57.0,\n          55.0\n        ],\n        \"semantic_type\": \"\",\n        \"description\": \"\"\n      }\n    },\n    {\n      \"column\": \"sibsp\",\n      \"properties\": {\n        \"dtype\": \"number\",\n        \"std\": 1.041658390596102,\n        \"min\": 0.0,\n        \"max\": 8.0,\n        \"num_unique_values\": 7,\n        \"samples\": [\n          0.0,\n          1.0\n        ],\n        \"semantic_type\": \"\",\n        \"description\": \"\"\n      }\n    },\n    {\n      \"column\": \"parch\",\n      \"properties\": {\n        \"dtype\": \"number\",\n        \"std\": 0.8655602753495147,\n        \"min\": 0.0,\n        \"max\": 9.0,\n        \"num_unique_values\": 8,\n        \"samples\": [\n          2.0,\n          5.0\n        ],\n        \"semantic_type\": \"\",\n        \"description\": \"\"\n      }\n    },\n    {\n      \"column\": \"ticket\",\n      \"properties\": {\n        \"dtype\": \"string\",\n        \"num_unique_values\": 929,\n        \"samples\": [\n          \"371060\",\n          \"330971\"\n        ],\n        \"semantic_type\": \"\",\n        \"description\": \"\"\n      }\n    },\n    {\n      \"column\": \"fare\",\n      \"properties\": {\n        \"dtype\": \"number\",\n        \"std\": 51.75866823917411,\n        \"min\": 0.0,\n        \"max\": 512.3292,\n        \"num_unique_values\": 281,\n        \"samples\": [\n          5.0,\n          9.35\n        ],\n        \"semantic_type\": \"\",\n        \"description\": \"\"\n      }\n    },\n    {\n      \"column\": \"cabin\",\n      \"properties\": {\n        \"dtype\": \"category\",\n        \"num_unique_values\": 186,\n        \"samples\": [\n          \"C90\",\n          \"C80\"\n        ],\n        \"semantic_type\": \"\",\n        \"description\": \"\"\n      }\n    },\n    {\n      \"column\": \"embarked\",\n      \"properties\": {\n        \"dtype\": \"category\",\n        \"num_unique_values\": 3,\n        \"samples\": [\n          \"S\",\n          \"C\"\n        ],\n        \"semantic_type\": \"\",\n        \"description\": \"\"\n      }\n    },\n    {\n      \"column\": \"boat\",\n      \"properties\": {\n        \"dtype\": \"category\",\n        \"num_unique_values\": 27,\n        \"samples\": [\n          \"B\",\n          \"C\"\n        ],\n        \"semantic_type\": \"\",\n        \"description\": \"\"\n      }\n    },\n    {\n      \"column\": \"body\",\n      \"properties\": {\n        \"dtype\": \"date\",\n        \"min\": 1.0,\n        \"max\": 328.0,\n        \"num_unique_values\": 121,\n        \"samples\": [\n          297.0,\n          19.0\n        ],\n        \"semantic_type\": \"\",\n        \"description\": \"\"\n      }\n    },\n    {\n      \"column\": \"home.dest\",\n      \"properties\": {\n        \"dtype\": \"category\",\n        \"num_unique_values\": 369,\n        \"samples\": [\n          \"Co Limerick, Ireland Sherbrooke, PQ\",\n          \"Amenia, ND\"\n        ],\n        \"semantic_type\": \"\",\n        \"description\": \"\"\n      }\n    }\n  ]\n}"
            }
          },
          "metadata": {},
          "execution_count": 32
        }
      ]
    },
    {
      "cell_type": "code",
      "source": [
        "df.isna().sum()"
      ],
      "metadata": {
        "colab": {
          "base_uri": "https://localhost:8080/"
        },
        "id": "uoh6qfWPmwoH",
        "outputId": "d2e013fd-0ba8-4ae0-8340-4cd8e8b876d6"
      },
      "execution_count": 33,
      "outputs": [
        {
          "output_type": "execute_result",
          "data": {
            "text/plain": [
              "pclass          0\n",
              "name            0\n",
              "sex             0\n",
              "age           263\n",
              "sibsp           0\n",
              "parch           0\n",
              "ticket          0\n",
              "fare            1\n",
              "cabin        1014\n",
              "embarked        2\n",
              "boat          823\n",
              "body         1188\n",
              "home.dest     564\n",
              "dtype: int64"
            ]
          },
          "metadata": {},
          "execution_count": 33
        }
      ]
    },
    {
      "cell_type": "code",
      "source": [
        "df = df.drop([\"cabin\", \"boat\", \"body\", \"home.dest\", \"name\", \"fare\", \"ticket\"], axis = 1)"
      ],
      "metadata": {
        "id": "W3Z90Ehrm3Y2"
      },
      "execution_count": 34,
      "outputs": []
    },
    {
      "cell_type": "code",
      "source": [
        "df['sex'] = df['sex'].map({'female' : 0, 'male' : 1})"
      ],
      "metadata": {
        "id": "JqivLXVGnTor"
      },
      "execution_count": 35,
      "outputs": []
    },
    {
      "cell_type": "code",
      "source": [
        "df['family'] = df['sibsp'] + df['parch']"
      ],
      "metadata": {
        "id": "GnJWzpOsnkzD"
      },
      "execution_count": 36,
      "outputs": []
    },
    {
      "cell_type": "code",
      "source": [
        "df['survived'] = data.target"
      ],
      "metadata": {
        "id": "w7a41mPbu3RT"
      },
      "execution_count": 37,
      "outputs": []
    },
    {
      "cell_type": "code",
      "source": [
        "df = df.drop([\"sibsp\", \"parch\"], axis = 1)"
      ],
      "metadata": {
        "id": "ida5lEz1nqb1"
      },
      "execution_count": 38,
      "outputs": []
    },
    {
      "cell_type": "code",
      "source": [
        "df"
      ],
      "metadata": {
        "colab": {
          "base_uri": "https://localhost:8080/",
          "height": 423
        },
        "id": "dgS1u6Ofoqar",
        "outputId": "2fddcde3-f90d-457a-e8ef-e9c329bde642"
      },
      "execution_count": 39,
      "outputs": [
        {
          "output_type": "execute_result",
          "data": {
            "text/plain": [
              "      pclass sex      age embarked  family survived\n",
              "0        1.0   0  29.0000        S     0.0        1\n",
              "1        1.0   1   0.9167        S     3.0        1\n",
              "2        1.0   0   2.0000        S     3.0        0\n",
              "3        1.0   1  30.0000        S     3.0        0\n",
              "4        1.0   0  25.0000        S     3.0        0\n",
              "...      ...  ..      ...      ...     ...      ...\n",
              "1304     3.0   0  14.5000        C     1.0        0\n",
              "1305     3.0   0      NaN        C     1.0        0\n",
              "1306     3.0   1  26.5000        C     0.0        0\n",
              "1307     3.0   1  27.0000        C     0.0        0\n",
              "1308     3.0   1  29.0000        S     0.0        0\n",
              "\n",
              "[1309 rows x 6 columns]"
            ],
            "text/html": [
              "\n",
              "  <div id=\"df-6bf3813c-8887-4d31-bdb0-23e073ed951b\" class=\"colab-df-container\">\n",
              "    <div>\n",
              "<style scoped>\n",
              "    .dataframe tbody tr th:only-of-type {\n",
              "        vertical-align: middle;\n",
              "    }\n",
              "\n",
              "    .dataframe tbody tr th {\n",
              "        vertical-align: top;\n",
              "    }\n",
              "\n",
              "    .dataframe thead th {\n",
              "        text-align: right;\n",
              "    }\n",
              "</style>\n",
              "<table border=\"1\" class=\"dataframe\">\n",
              "  <thead>\n",
              "    <tr style=\"text-align: right;\">\n",
              "      <th></th>\n",
              "      <th>pclass</th>\n",
              "      <th>sex</th>\n",
              "      <th>age</th>\n",
              "      <th>embarked</th>\n",
              "      <th>family</th>\n",
              "      <th>survived</th>\n",
              "    </tr>\n",
              "  </thead>\n",
              "  <tbody>\n",
              "    <tr>\n",
              "      <th>0</th>\n",
              "      <td>1.0</td>\n",
              "      <td>0</td>\n",
              "      <td>29.0000</td>\n",
              "      <td>S</td>\n",
              "      <td>0.0</td>\n",
              "      <td>1</td>\n",
              "    </tr>\n",
              "    <tr>\n",
              "      <th>1</th>\n",
              "      <td>1.0</td>\n",
              "      <td>1</td>\n",
              "      <td>0.9167</td>\n",
              "      <td>S</td>\n",
              "      <td>3.0</td>\n",
              "      <td>1</td>\n",
              "    </tr>\n",
              "    <tr>\n",
              "      <th>2</th>\n",
              "      <td>1.0</td>\n",
              "      <td>0</td>\n",
              "      <td>2.0000</td>\n",
              "      <td>S</td>\n",
              "      <td>3.0</td>\n",
              "      <td>0</td>\n",
              "    </tr>\n",
              "    <tr>\n",
              "      <th>3</th>\n",
              "      <td>1.0</td>\n",
              "      <td>1</td>\n",
              "      <td>30.0000</td>\n",
              "      <td>S</td>\n",
              "      <td>3.0</td>\n",
              "      <td>0</td>\n",
              "    </tr>\n",
              "    <tr>\n",
              "      <th>4</th>\n",
              "      <td>1.0</td>\n",
              "      <td>0</td>\n",
              "      <td>25.0000</td>\n",
              "      <td>S</td>\n",
              "      <td>3.0</td>\n",
              "      <td>0</td>\n",
              "    </tr>\n",
              "    <tr>\n",
              "      <th>...</th>\n",
              "      <td>...</td>\n",
              "      <td>...</td>\n",
              "      <td>...</td>\n",
              "      <td>...</td>\n",
              "      <td>...</td>\n",
              "      <td>...</td>\n",
              "    </tr>\n",
              "    <tr>\n",
              "      <th>1304</th>\n",
              "      <td>3.0</td>\n",
              "      <td>0</td>\n",
              "      <td>14.5000</td>\n",
              "      <td>C</td>\n",
              "      <td>1.0</td>\n",
              "      <td>0</td>\n",
              "    </tr>\n",
              "    <tr>\n",
              "      <th>1305</th>\n",
              "      <td>3.0</td>\n",
              "      <td>0</td>\n",
              "      <td>NaN</td>\n",
              "      <td>C</td>\n",
              "      <td>1.0</td>\n",
              "      <td>0</td>\n",
              "    </tr>\n",
              "    <tr>\n",
              "      <th>1306</th>\n",
              "      <td>3.0</td>\n",
              "      <td>1</td>\n",
              "      <td>26.5000</td>\n",
              "      <td>C</td>\n",
              "      <td>0.0</td>\n",
              "      <td>0</td>\n",
              "    </tr>\n",
              "    <tr>\n",
              "      <th>1307</th>\n",
              "      <td>3.0</td>\n",
              "      <td>1</td>\n",
              "      <td>27.0000</td>\n",
              "      <td>C</td>\n",
              "      <td>0.0</td>\n",
              "      <td>0</td>\n",
              "    </tr>\n",
              "    <tr>\n",
              "      <th>1308</th>\n",
              "      <td>3.0</td>\n",
              "      <td>1</td>\n",
              "      <td>29.0000</td>\n",
              "      <td>S</td>\n",
              "      <td>0.0</td>\n",
              "      <td>0</td>\n",
              "    </tr>\n",
              "  </tbody>\n",
              "</table>\n",
              "<p>1309 rows × 6 columns</p>\n",
              "</div>\n",
              "    <div class=\"colab-df-buttons\">\n",
              "\n",
              "  <div class=\"colab-df-container\">\n",
              "    <button class=\"colab-df-convert\" onclick=\"convertToInteractive('df-6bf3813c-8887-4d31-bdb0-23e073ed951b')\"\n",
              "            title=\"Convert this dataframe to an interactive table.\"\n",
              "            style=\"display:none;\">\n",
              "\n",
              "  <svg xmlns=\"http://www.w3.org/2000/svg\" height=\"24px\" viewBox=\"0 -960 960 960\">\n",
              "    <path d=\"M120-120v-720h720v720H120Zm60-500h600v-160H180v160Zm220 220h160v-160H400v160Zm0 220h160v-160H400v160ZM180-400h160v-160H180v160Zm440 0h160v-160H620v160ZM180-180h160v-160H180v160Zm440 0h160v-160H620v160Z\"/>\n",
              "  </svg>\n",
              "    </button>\n",
              "\n",
              "  <style>\n",
              "    .colab-df-container {\n",
              "      display:flex;\n",
              "      gap: 12px;\n",
              "    }\n",
              "\n",
              "    .colab-df-convert {\n",
              "      background-color: #E8F0FE;\n",
              "      border: none;\n",
              "      border-radius: 50%;\n",
              "      cursor: pointer;\n",
              "      display: none;\n",
              "      fill: #1967D2;\n",
              "      height: 32px;\n",
              "      padding: 0 0 0 0;\n",
              "      width: 32px;\n",
              "    }\n",
              "\n",
              "    .colab-df-convert:hover {\n",
              "      background-color: #E2EBFA;\n",
              "      box-shadow: 0px 1px 2px rgba(60, 64, 67, 0.3), 0px 1px 3px 1px rgba(60, 64, 67, 0.15);\n",
              "      fill: #174EA6;\n",
              "    }\n",
              "\n",
              "    .colab-df-buttons div {\n",
              "      margin-bottom: 4px;\n",
              "    }\n",
              "\n",
              "    [theme=dark] .colab-df-convert {\n",
              "      background-color: #3B4455;\n",
              "      fill: #D2E3FC;\n",
              "    }\n",
              "\n",
              "    [theme=dark] .colab-df-convert:hover {\n",
              "      background-color: #434B5C;\n",
              "      box-shadow: 0px 1px 3px 1px rgba(0, 0, 0, 0.15);\n",
              "      filter: drop-shadow(0px 1px 2px rgba(0, 0, 0, 0.3));\n",
              "      fill: #FFFFFF;\n",
              "    }\n",
              "  </style>\n",
              "\n",
              "    <script>\n",
              "      const buttonEl =\n",
              "        document.querySelector('#df-6bf3813c-8887-4d31-bdb0-23e073ed951b button.colab-df-convert');\n",
              "      buttonEl.style.display =\n",
              "        google.colab.kernel.accessAllowed ? 'block' : 'none';\n",
              "\n",
              "      async function convertToInteractive(key) {\n",
              "        const element = document.querySelector('#df-6bf3813c-8887-4d31-bdb0-23e073ed951b');\n",
              "        const dataTable =\n",
              "          await google.colab.kernel.invokeFunction('convertToInteractive',\n",
              "                                                    [key], {});\n",
              "        if (!dataTable) return;\n",
              "\n",
              "        const docLinkHtml = 'Like what you see? Visit the ' +\n",
              "          '<a target=\"_blank\" href=https://colab.research.google.com/notebooks/data_table.ipynb>data table notebook</a>'\n",
              "          + ' to learn more about interactive tables.';\n",
              "        element.innerHTML = '';\n",
              "        dataTable['output_type'] = 'display_data';\n",
              "        await google.colab.output.renderOutput(dataTable, element);\n",
              "        const docLink = document.createElement('div');\n",
              "        docLink.innerHTML = docLinkHtml;\n",
              "        element.appendChild(docLink);\n",
              "      }\n",
              "    </script>\n",
              "  </div>\n",
              "\n",
              "\n",
              "<div id=\"df-3de90601-9e60-42ff-b584-ae2184ee3aa9\">\n",
              "  <button class=\"colab-df-quickchart\" onclick=\"quickchart('df-3de90601-9e60-42ff-b584-ae2184ee3aa9')\"\n",
              "            title=\"Suggest charts\"\n",
              "            style=\"display:none;\">\n",
              "\n",
              "<svg xmlns=\"http://www.w3.org/2000/svg\" height=\"24px\"viewBox=\"0 0 24 24\"\n",
              "     width=\"24px\">\n",
              "    <g>\n",
              "        <path d=\"M19 3H5c-1.1 0-2 .9-2 2v14c0 1.1.9 2 2 2h14c1.1 0 2-.9 2-2V5c0-1.1-.9-2-2-2zM9 17H7v-7h2v7zm4 0h-2V7h2v10zm4 0h-2v-4h2v4z\"/>\n",
              "    </g>\n",
              "</svg>\n",
              "  </button>\n",
              "\n",
              "<style>\n",
              "  .colab-df-quickchart {\n",
              "      --bg-color: #E8F0FE;\n",
              "      --fill-color: #1967D2;\n",
              "      --hover-bg-color: #E2EBFA;\n",
              "      --hover-fill-color: #174EA6;\n",
              "      --disabled-fill-color: #AAA;\n",
              "      --disabled-bg-color: #DDD;\n",
              "  }\n",
              "\n",
              "  [theme=dark] .colab-df-quickchart {\n",
              "      --bg-color: #3B4455;\n",
              "      --fill-color: #D2E3FC;\n",
              "      --hover-bg-color: #434B5C;\n",
              "      --hover-fill-color: #FFFFFF;\n",
              "      --disabled-bg-color: #3B4455;\n",
              "      --disabled-fill-color: #666;\n",
              "  }\n",
              "\n",
              "  .colab-df-quickchart {\n",
              "    background-color: var(--bg-color);\n",
              "    border: none;\n",
              "    border-radius: 50%;\n",
              "    cursor: pointer;\n",
              "    display: none;\n",
              "    fill: var(--fill-color);\n",
              "    height: 32px;\n",
              "    padding: 0;\n",
              "    width: 32px;\n",
              "  }\n",
              "\n",
              "  .colab-df-quickchart:hover {\n",
              "    background-color: var(--hover-bg-color);\n",
              "    box-shadow: 0 1px 2px rgba(60, 64, 67, 0.3), 0 1px 3px 1px rgba(60, 64, 67, 0.15);\n",
              "    fill: var(--button-hover-fill-color);\n",
              "  }\n",
              "\n",
              "  .colab-df-quickchart-complete:disabled,\n",
              "  .colab-df-quickchart-complete:disabled:hover {\n",
              "    background-color: var(--disabled-bg-color);\n",
              "    fill: var(--disabled-fill-color);\n",
              "    box-shadow: none;\n",
              "  }\n",
              "\n",
              "  .colab-df-spinner {\n",
              "    border: 2px solid var(--fill-color);\n",
              "    border-color: transparent;\n",
              "    border-bottom-color: var(--fill-color);\n",
              "    animation:\n",
              "      spin 1s steps(1) infinite;\n",
              "  }\n",
              "\n",
              "  @keyframes spin {\n",
              "    0% {\n",
              "      border-color: transparent;\n",
              "      border-bottom-color: var(--fill-color);\n",
              "      border-left-color: var(--fill-color);\n",
              "    }\n",
              "    20% {\n",
              "      border-color: transparent;\n",
              "      border-left-color: var(--fill-color);\n",
              "      border-top-color: var(--fill-color);\n",
              "    }\n",
              "    30% {\n",
              "      border-color: transparent;\n",
              "      border-left-color: var(--fill-color);\n",
              "      border-top-color: var(--fill-color);\n",
              "      border-right-color: var(--fill-color);\n",
              "    }\n",
              "    40% {\n",
              "      border-color: transparent;\n",
              "      border-right-color: var(--fill-color);\n",
              "      border-top-color: var(--fill-color);\n",
              "    }\n",
              "    60% {\n",
              "      border-color: transparent;\n",
              "      border-right-color: var(--fill-color);\n",
              "    }\n",
              "    80% {\n",
              "      border-color: transparent;\n",
              "      border-right-color: var(--fill-color);\n",
              "      border-bottom-color: var(--fill-color);\n",
              "    }\n",
              "    90% {\n",
              "      border-color: transparent;\n",
              "      border-bottom-color: var(--fill-color);\n",
              "    }\n",
              "  }\n",
              "</style>\n",
              "\n",
              "  <script>\n",
              "    async function quickchart(key) {\n",
              "      const quickchartButtonEl =\n",
              "        document.querySelector('#' + key + ' button');\n",
              "      quickchartButtonEl.disabled = true;  // To prevent multiple clicks.\n",
              "      quickchartButtonEl.classList.add('colab-df-spinner');\n",
              "      try {\n",
              "        const charts = await google.colab.kernel.invokeFunction(\n",
              "            'suggestCharts', [key], {});\n",
              "      } catch (error) {\n",
              "        console.error('Error during call to suggestCharts:', error);\n",
              "      }\n",
              "      quickchartButtonEl.classList.remove('colab-df-spinner');\n",
              "      quickchartButtonEl.classList.add('colab-df-quickchart-complete');\n",
              "    }\n",
              "    (() => {\n",
              "      let quickchartButtonEl =\n",
              "        document.querySelector('#df-3de90601-9e60-42ff-b584-ae2184ee3aa9 button');\n",
              "      quickchartButtonEl.style.display =\n",
              "        google.colab.kernel.accessAllowed ? 'block' : 'none';\n",
              "    })();\n",
              "  </script>\n",
              "</div>\n",
              "\n",
              "  <div id=\"id_365951bc-985f-4571-b764-a7559652cacf\">\n",
              "    <style>\n",
              "      .colab-df-generate {\n",
              "        background-color: #E8F0FE;\n",
              "        border: none;\n",
              "        border-radius: 50%;\n",
              "        cursor: pointer;\n",
              "        display: none;\n",
              "        fill: #1967D2;\n",
              "        height: 32px;\n",
              "        padding: 0 0 0 0;\n",
              "        width: 32px;\n",
              "      }\n",
              "\n",
              "      .colab-df-generate:hover {\n",
              "        background-color: #E2EBFA;\n",
              "        box-shadow: 0px 1px 2px rgba(60, 64, 67, 0.3), 0px 1px 3px 1px rgba(60, 64, 67, 0.15);\n",
              "        fill: #174EA6;\n",
              "      }\n",
              "\n",
              "      [theme=dark] .colab-df-generate {\n",
              "        background-color: #3B4455;\n",
              "        fill: #D2E3FC;\n",
              "      }\n",
              "\n",
              "      [theme=dark] .colab-df-generate:hover {\n",
              "        background-color: #434B5C;\n",
              "        box-shadow: 0px 1px 3px 1px rgba(0, 0, 0, 0.15);\n",
              "        filter: drop-shadow(0px 1px 2px rgba(0, 0, 0, 0.3));\n",
              "        fill: #FFFFFF;\n",
              "      }\n",
              "    </style>\n",
              "    <button class=\"colab-df-generate\" onclick=\"generateWithVariable('df')\"\n",
              "            title=\"Generate code using this dataframe.\"\n",
              "            style=\"display:none;\">\n",
              "\n",
              "  <svg xmlns=\"http://www.w3.org/2000/svg\" height=\"24px\"viewBox=\"0 0 24 24\"\n",
              "       width=\"24px\">\n",
              "    <path d=\"M7,19H8.4L18.45,9,17,7.55,7,17.6ZM5,21V16.75L18.45,3.32a2,2,0,0,1,2.83,0l1.4,1.43a1.91,1.91,0,0,1,.58,1.4,1.91,1.91,0,0,1-.58,1.4L9.25,21ZM18.45,9,17,7.55Zm-12,3A5.31,5.31,0,0,0,4.9,8.1,5.31,5.31,0,0,0,1,6.5,5.31,5.31,0,0,0,4.9,4.9,5.31,5.31,0,0,0,6.5,1,5.31,5.31,0,0,0,8.1,4.9,5.31,5.31,0,0,0,12,6.5,5.46,5.46,0,0,0,6.5,12Z\"/>\n",
              "  </svg>\n",
              "    </button>\n",
              "    <script>\n",
              "      (() => {\n",
              "      const buttonEl =\n",
              "        document.querySelector('#id_365951bc-985f-4571-b764-a7559652cacf button.colab-df-generate');\n",
              "      buttonEl.style.display =\n",
              "        google.colab.kernel.accessAllowed ? 'block' : 'none';\n",
              "\n",
              "      buttonEl.onclick = () => {\n",
              "        google.colab.notebook.generateWithVariable('df');\n",
              "      }\n",
              "      })();\n",
              "    </script>\n",
              "  </div>\n",
              "\n",
              "    </div>\n",
              "  </div>\n"
            ],
            "application/vnd.google.colaboratory.intrinsic+json": {
              "type": "dataframe",
              "variable_name": "df",
              "summary": "{\n  \"name\": \"df\",\n  \"rows\": 1309,\n  \"fields\": [\n    {\n      \"column\": \"pclass\",\n      \"properties\": {\n        \"dtype\": \"number\",\n        \"std\": 0.8378360189701274,\n        \"min\": 1.0,\n        \"max\": 3.0,\n        \"num_unique_values\": 3,\n        \"samples\": [\n          1.0,\n          2.0,\n          3.0\n        ],\n        \"semantic_type\": \"\",\n        \"description\": \"\"\n      }\n    },\n    {\n      \"column\": \"sex\",\n      \"properties\": {\n        \"dtype\": \"category\",\n        \"num_unique_values\": 2,\n        \"samples\": [\n          1,\n          0\n        ],\n        \"semantic_type\": \"\",\n        \"description\": \"\"\n      }\n    },\n    {\n      \"column\": \"age\",\n      \"properties\": {\n        \"dtype\": \"number\",\n        \"std\": 14.413499699923602,\n        \"min\": 0.1667,\n        \"max\": 80.0,\n        \"num_unique_values\": 98,\n        \"samples\": [\n          57.0,\n          55.0\n        ],\n        \"semantic_type\": \"\",\n        \"description\": \"\"\n      }\n    },\n    {\n      \"column\": \"embarked\",\n      \"properties\": {\n        \"dtype\": \"category\",\n        \"num_unique_values\": 3,\n        \"samples\": [\n          \"S\",\n          \"C\"\n        ],\n        \"semantic_type\": \"\",\n        \"description\": \"\"\n      }\n    },\n    {\n      \"column\": \"family\",\n      \"properties\": {\n        \"dtype\": \"number\",\n        \"std\": 1.5836390865436092,\n        \"min\": 0.0,\n        \"max\": 10.0,\n        \"num_unique_values\": 9,\n        \"samples\": [\n          7.0,\n          3.0\n        ],\n        \"semantic_type\": \"\",\n        \"description\": \"\"\n      }\n    },\n    {\n      \"column\": \"survived\",\n      \"properties\": {\n        \"dtype\": \"category\",\n        \"num_unique_values\": 2,\n        \"samples\": [\n          \"0\",\n          \"1\"\n        ],\n        \"semantic_type\": \"\",\n        \"description\": \"\"\n      }\n    }\n  ]\n}"
            }
          },
          "metadata": {},
          "execution_count": 39
        }
      ]
    },
    {
      "cell_type": "code",
      "source": [
        "df['embarked'].unique()"
      ],
      "metadata": {
        "colab": {
          "base_uri": "https://localhost:8080/"
        },
        "id": "0vBWPhzNovqJ",
        "outputId": "344adf33-cef4-4d8b-81b7-7d51ff769397"
      },
      "execution_count": 40,
      "outputs": [
        {
          "output_type": "execute_result",
          "data": {
            "text/plain": [
              "['S', 'C', NaN, 'Q']\n",
              "Categories (3, object): ['C', 'Q', 'S']"
            ]
          },
          "metadata": {},
          "execution_count": 40
        }
      ]
    },
    {
      "cell_type": "code",
      "source": [
        "df['embarked'] = df['embarked'].map({'S' : 0, 'C' : 1, 'Q' : 2})"
      ],
      "metadata": {
        "id": "2uJ-Mk2ypGBr"
      },
      "execution_count": 62,
      "outputs": []
    },
    {
      "cell_type": "code",
      "source": [
        "df.isna().sum()"
      ],
      "metadata": {
        "colab": {
          "base_uri": "https://localhost:8080/"
        },
        "id": "zwyU2DpbpNNL",
        "outputId": "9b59ee02-cdc7-4f05-da73-8e59f3e38058"
      },
      "execution_count": 43,
      "outputs": [
        {
          "output_type": "execute_result",
          "data": {
            "text/plain": [
              "pclass        0\n",
              "sex           0\n",
              "age         263\n",
              "embarked      2\n",
              "family        0\n",
              "survived      0\n",
              "dtype: int64"
            ]
          },
          "metadata": {},
          "execution_count": 43
        }
      ]
    },
    {
      "cell_type": "code",
      "source": [
        "df.dtypes"
      ],
      "metadata": {
        "colab": {
          "base_uri": "https://localhost:8080/"
        },
        "id": "ztAusdapXYFe",
        "outputId": "32248aa6-33a0-4b68-a0c2-e47d106e95a5"
      },
      "execution_count": 52,
      "outputs": [
        {
          "output_type": "execute_result",
          "data": {
            "text/plain": [
              "pclass       float64\n",
              "sex         category\n",
              "age          float64\n",
              "embarked    category\n",
              "family       float64\n",
              "survived    category\n",
              "dtype: object"
            ]
          },
          "metadata": {},
          "execution_count": 52
        }
      ]
    },
    {
      "cell_type": "code",
      "source": [
        "df['sex'] = df['sex'].astype('float64')\n",
        "df['survived'] = df['survived'].astype('float64')"
      ],
      "metadata": {
        "id": "y-Zdy4WAXW9X"
      },
      "execution_count": 53,
      "outputs": []
    },
    {
      "cell_type": "markdown",
      "source": [
        "# PipeLine Process"
      ],
      "metadata": {
        "id": "34oav_f9VQ72"
      }
    },
    {
      "cell_type": "markdown",
      "source": [
        "Filling NAN Values"
      ],
      "metadata": {
        "id": "RKW6Qxmm2lev"
      }
    },
    {
      "cell_type": "code",
      "source": [
        "from sklearn.impute import SimpleImputer"
      ],
      "metadata": {
        "id": "Y4dI8M6RpRac"
      },
      "execution_count": 17,
      "outputs": []
    },
    {
      "cell_type": "code",
      "source": [
        "sip = SimpleImputer(strategy='most_frequent')\n",
        "sip_mean = SimpleImputer(strategy='mean')"
      ],
      "metadata": {
        "id": "CyOmnw8SueM_"
      },
      "execution_count": 18,
      "outputs": []
    },
    {
      "cell_type": "code",
      "source": [
        "mean_transform = [\"age\"]\n",
        "most_frequent_transform = [\"embarked\"]"
      ],
      "metadata": {
        "id": "kXIhmWVsVi7c"
      },
      "execution_count": 56,
      "outputs": []
    },
    {
      "cell_type": "code",
      "source": [
        "df['age'] = sip_mean.fit_transform(df[mean_transform])"
      ],
      "metadata": {
        "id": "EH86nwstYIdq"
      },
      "execution_count": 58,
      "outputs": []
    },
    {
      "cell_type": "code",
      "source": [
        "df['embarked'] = sip.fit_transform(df[most_frequent_transform])"
      ],
      "metadata": {
        "id": "MHM268BWYb0B"
      },
      "execution_count": 63,
      "outputs": []
    },
    {
      "cell_type": "code",
      "source": [
        "df.isna().sum()"
      ],
      "metadata": {
        "colab": {
          "base_uri": "https://localhost:8080/"
        },
        "id": "mAjc8S5itvyP",
        "outputId": "9ce0d9bb-d588-4ca6-9a3c-f5e376c0b939"
      },
      "execution_count": 64,
      "outputs": [
        {
          "output_type": "execute_result",
          "data": {
            "text/plain": [
              "pclass      0\n",
              "sex         0\n",
              "age         0\n",
              "embarked    0\n",
              "family      0\n",
              "survived    0\n",
              "dtype: int64"
            ]
          },
          "metadata": {},
          "execution_count": 64
        }
      ]
    },
    {
      "cell_type": "code",
      "source": [
        "df.dtypes"
      ],
      "metadata": {
        "colab": {
          "base_uri": "https://localhost:8080/"
        },
        "id": "b0bWx6xZZcrj",
        "outputId": "848ab749-d18e-46e5-ddf5-3bac24caecd8"
      },
      "execution_count": 65,
      "outputs": [
        {
          "output_type": "execute_result",
          "data": {
            "text/plain": [
              "pclass      float64\n",
              "sex         float64\n",
              "age         float64\n",
              "embarked    float64\n",
              "family      float64\n",
              "survived    float64\n",
              "dtype: object"
            ]
          },
          "metadata": {},
          "execution_count": 65
        }
      ]
    },
    {
      "cell_type": "code",
      "source": [
        "from sklearn.pipeline import Pipeline"
      ],
      "metadata": {
        "id": "1faeSmXbZyw8"
      },
      "execution_count": 69,
      "outputs": []
    },
    {
      "cell_type": "code",
      "source": [
        "mean_pipeline = Pipeline([\n",
        "    ('imputer', SimpleImputer(strategy='mean'))\n",
        "])\n",
        "most_frequent_pipeline = Pipeline([\n",
        "    ('imputer', SimpleImputer(strategy='most_frequent'))\n",
        "])"
      ],
      "metadata": {
        "id": "yFPerJtiZ7im"
      },
      "execution_count": 70,
      "outputs": []
    },
    {
      "cell_type": "markdown",
      "source": [
        "## Creating Input and Target Data"
      ],
      "metadata": {
        "id": "qGfwFfko2xIp"
      }
    },
    {
      "cell_type": "code",
      "source": [
        "from sklearn.model_selection import train_test_split"
      ],
      "metadata": {
        "id": "14hkrGzKvnrC"
      },
      "execution_count": 84,
      "outputs": []
    },
    {
      "cell_type": "code",
      "source": [
        "X = df.drop('survived', axis = 1)\n",
        "y = df['survived']"
      ],
      "metadata": {
        "id": "pR-NAgTCusvM"
      },
      "execution_count": 85,
      "outputs": []
    },
    {
      "cell_type": "code",
      "source": [
        "X_train, X_test, y_train, y_test = train_test_split(X, y, test_size=0.2, random_state=1)"
      ],
      "metadata": {
        "id": "zKLx9iUzuxRx"
      },
      "execution_count": 86,
      "outputs": []
    },
    {
      "cell_type": "code",
      "source": [
        "X_train.shape"
      ],
      "metadata": {
        "colab": {
          "base_uri": "https://localhost:8080/"
        },
        "id": "-djX2ZoOvxdB",
        "outputId": "e22d586b-c3f7-4ff5-f20f-90705c0933f0"
      },
      "execution_count": 87,
      "outputs": [
        {
          "output_type": "execute_result",
          "data": {
            "text/plain": [
              "(1047, 5)"
            ]
          },
          "metadata": {},
          "execution_count": 87
        }
      ]
    },
    {
      "cell_type": "code",
      "source": [
        "X_test.shape"
      ],
      "metadata": {
        "colab": {
          "base_uri": "https://localhost:8080/"
        },
        "id": "c1E3ftzpv1zv",
        "outputId": "cecebb63-d965-4449-9d1b-93eb60bed27e"
      },
      "execution_count": 88,
      "outputs": [
        {
          "output_type": "execute_result",
          "data": {
            "text/plain": [
              "(262, 5)"
            ]
          },
          "metadata": {},
          "execution_count": 88
        }
      ]
    },
    {
      "cell_type": "markdown",
      "source": [
        "## Model Training and Testing"
      ],
      "metadata": {
        "id": "XsPBrmWH21zT"
      }
    },
    {
      "cell_type": "markdown",
      "source": [
        "### Using logistic Regression"
      ],
      "metadata": {
        "id": "9bOyH9YK25WL"
      }
    },
    {
      "cell_type": "code",
      "source": [
        "from sklearn.linear_model import LogisticRegression"
      ],
      "metadata": {
        "id": "q3LmocsKv4Dc"
      },
      "execution_count": 89,
      "outputs": []
    },
    {
      "cell_type": "code",
      "source": [
        "l_reg = LogisticRegression()"
      ],
      "metadata": {
        "id": "RGpk3AZ_wAtf"
      },
      "execution_count": 90,
      "outputs": []
    },
    {
      "cell_type": "code",
      "source": [
        "from sklearn.compose import ColumnTransformer"
      ],
      "metadata": {
        "id": "L3uO7emCaiEe"
      },
      "execution_count": 91,
      "outputs": []
    },
    {
      "cell_type": "code",
      "source": [
        "transformer = ColumnTransformer([\n",
        "    ('mean_pipeline', mean_pipeline, mean_transform),\n",
        "    ('most_frequent_pipeline', most_frequent_pipeline, most_frequent_transform)\n",
        "],\n",
        "    remainder=\"drop\",\n",
        "                              )"
      ],
      "metadata": {
        "id": "MK3Qyvegaso3"
      },
      "execution_count": 92,
      "outputs": []
    },
    {
      "cell_type": "code",
      "source": [
        "from sklearn.pipeline import make_pipeline"
      ],
      "metadata": {
        "id": "WKWMiEhaZnoo"
      },
      "execution_count": 105,
      "outputs": []
    },
    {
      "cell_type": "code",
      "source": [
        "pipeline = make_pipeline(transformer, l_reg)"
      ],
      "metadata": {
        "id": "Nvfme4kDa8ez"
      },
      "execution_count": 106,
      "outputs": []
    },
    {
      "cell_type": "code",
      "source": [
        "pipeline.fit(X_train, y_train)"
      ],
      "metadata": {
        "colab": {
          "base_uri": "https://localhost:8080/",
          "height": 190
        },
        "id": "3IQNk3BTwESm",
        "outputId": "4d6bdcc5-3654-4594-bf7e-a298ad2e8cd9"
      },
      "execution_count": 109,
      "outputs": [
        {
          "output_type": "execute_result",
          "data": {
            "text/plain": [
              "Pipeline(steps=[('columntransformer',\n",
              "                 ColumnTransformer(transformers=[('mean_pipeline',\n",
              "                                                  Pipeline(steps=[('imputer',\n",
              "                                                                   SimpleImputer())]),\n",
              "                                                  ['age']),\n",
              "                                                 ('most_frequent_pipeline',\n",
              "                                                  Pipeline(steps=[('imputer',\n",
              "                                                                   SimpleImputer(strategy='most_frequent'))]),\n",
              "                                                  ['embarked'])])),\n",
              "                ('logisticregression', LogisticRegression())])"
            ],
            "text/html": [
              "<style>#sk-container-id-3 {color: black;background-color: white;}#sk-container-id-3 pre{padding: 0;}#sk-container-id-3 div.sk-toggleable {background-color: white;}#sk-container-id-3 label.sk-toggleable__label {cursor: pointer;display: block;width: 100%;margin-bottom: 0;padding: 0.3em;box-sizing: border-box;text-align: center;}#sk-container-id-3 label.sk-toggleable__label-arrow:before {content: \"▸\";float: left;margin-right: 0.25em;color: #696969;}#sk-container-id-3 label.sk-toggleable__label-arrow:hover:before {color: black;}#sk-container-id-3 div.sk-estimator:hover label.sk-toggleable__label-arrow:before {color: black;}#sk-container-id-3 div.sk-toggleable__content {max-height: 0;max-width: 0;overflow: hidden;text-align: left;background-color: #f0f8ff;}#sk-container-id-3 div.sk-toggleable__content pre {margin: 0.2em;color: black;border-radius: 0.25em;background-color: #f0f8ff;}#sk-container-id-3 input.sk-toggleable__control:checked~div.sk-toggleable__content {max-height: 200px;max-width: 100%;overflow: auto;}#sk-container-id-3 input.sk-toggleable__control:checked~label.sk-toggleable__label-arrow:before {content: \"▾\";}#sk-container-id-3 div.sk-estimator input.sk-toggleable__control:checked~label.sk-toggleable__label {background-color: #d4ebff;}#sk-container-id-3 div.sk-label input.sk-toggleable__control:checked~label.sk-toggleable__label {background-color: #d4ebff;}#sk-container-id-3 input.sk-hidden--visually {border: 0;clip: rect(1px 1px 1px 1px);clip: rect(1px, 1px, 1px, 1px);height: 1px;margin: -1px;overflow: hidden;padding: 0;position: absolute;width: 1px;}#sk-container-id-3 div.sk-estimator {font-family: monospace;background-color: #f0f8ff;border: 1px dotted black;border-radius: 0.25em;box-sizing: border-box;margin-bottom: 0.5em;}#sk-container-id-3 div.sk-estimator:hover {background-color: #d4ebff;}#sk-container-id-3 div.sk-parallel-item::after {content: \"\";width: 100%;border-bottom: 1px solid gray;flex-grow: 1;}#sk-container-id-3 div.sk-label:hover label.sk-toggleable__label {background-color: #d4ebff;}#sk-container-id-3 div.sk-serial::before {content: \"\";position: absolute;border-left: 1px solid gray;box-sizing: border-box;top: 0;bottom: 0;left: 50%;z-index: 0;}#sk-container-id-3 div.sk-serial {display: flex;flex-direction: column;align-items: center;background-color: white;padding-right: 0.2em;padding-left: 0.2em;position: relative;}#sk-container-id-3 div.sk-item {position: relative;z-index: 1;}#sk-container-id-3 div.sk-parallel {display: flex;align-items: stretch;justify-content: center;background-color: white;position: relative;}#sk-container-id-3 div.sk-item::before, #sk-container-id-3 div.sk-parallel-item::before {content: \"\";position: absolute;border-left: 1px solid gray;box-sizing: border-box;top: 0;bottom: 0;left: 50%;z-index: -1;}#sk-container-id-3 div.sk-parallel-item {display: flex;flex-direction: column;z-index: 1;position: relative;background-color: white;}#sk-container-id-3 div.sk-parallel-item:first-child::after {align-self: flex-end;width: 50%;}#sk-container-id-3 div.sk-parallel-item:last-child::after {align-self: flex-start;width: 50%;}#sk-container-id-3 div.sk-parallel-item:only-child::after {width: 0;}#sk-container-id-3 div.sk-dashed-wrapped {border: 1px dashed gray;margin: 0 0.4em 0.5em 0.4em;box-sizing: border-box;padding-bottom: 0.4em;background-color: white;}#sk-container-id-3 div.sk-label label {font-family: monospace;font-weight: bold;display: inline-block;line-height: 1.2em;}#sk-container-id-3 div.sk-label-container {text-align: center;}#sk-container-id-3 div.sk-container {/* jupyter's `normalize.less` sets `[hidden] { display: none; }` but bootstrap.min.css set `[hidden] { display: none !important; }` so we also need the `!important` here to be able to override the default hidden behavior on the sphinx rendered scikit-learn.org. See: https://github.com/scikit-learn/scikit-learn/issues/21755 */display: inline-block !important;position: relative;}#sk-container-id-3 div.sk-text-repr-fallback {display: none;}</style><div id=\"sk-container-id-3\" class=\"sk-top-container\"><div class=\"sk-text-repr-fallback\"><pre>Pipeline(steps=[(&#x27;columntransformer&#x27;,\n",
              "                 ColumnTransformer(transformers=[(&#x27;mean_pipeline&#x27;,\n",
              "                                                  Pipeline(steps=[(&#x27;imputer&#x27;,\n",
              "                                                                   SimpleImputer())]),\n",
              "                                                  [&#x27;age&#x27;]),\n",
              "                                                 (&#x27;most_frequent_pipeline&#x27;,\n",
              "                                                  Pipeline(steps=[(&#x27;imputer&#x27;,\n",
              "                                                                   SimpleImputer(strategy=&#x27;most_frequent&#x27;))]),\n",
              "                                                  [&#x27;embarked&#x27;])])),\n",
              "                (&#x27;logisticregression&#x27;, LogisticRegression())])</pre><b>In a Jupyter environment, please rerun this cell to show the HTML representation or trust the notebook. <br />On GitHub, the HTML representation is unable to render, please try loading this page with nbviewer.org.</b></div><div class=\"sk-container\" hidden><div class=\"sk-item sk-dashed-wrapped\"><div class=\"sk-label-container\"><div class=\"sk-label sk-toggleable\"><input class=\"sk-toggleable__control sk-hidden--visually\" id=\"sk-estimator-id-15\" type=\"checkbox\" ><label for=\"sk-estimator-id-15\" class=\"sk-toggleable__label sk-toggleable__label-arrow\">Pipeline</label><div class=\"sk-toggleable__content\"><pre>Pipeline(steps=[(&#x27;columntransformer&#x27;,\n",
              "                 ColumnTransformer(transformers=[(&#x27;mean_pipeline&#x27;,\n",
              "                                                  Pipeline(steps=[(&#x27;imputer&#x27;,\n",
              "                                                                   SimpleImputer())]),\n",
              "                                                  [&#x27;age&#x27;]),\n",
              "                                                 (&#x27;most_frequent_pipeline&#x27;,\n",
              "                                                  Pipeline(steps=[(&#x27;imputer&#x27;,\n",
              "                                                                   SimpleImputer(strategy=&#x27;most_frequent&#x27;))]),\n",
              "                                                  [&#x27;embarked&#x27;])])),\n",
              "                (&#x27;logisticregression&#x27;, LogisticRegression())])</pre></div></div></div><div class=\"sk-serial\"><div class=\"sk-item sk-dashed-wrapped\"><div class=\"sk-label-container\"><div class=\"sk-label sk-toggleable\"><input class=\"sk-toggleable__control sk-hidden--visually\" id=\"sk-estimator-id-16\" type=\"checkbox\" ><label for=\"sk-estimator-id-16\" class=\"sk-toggleable__label sk-toggleable__label-arrow\">columntransformer: ColumnTransformer</label><div class=\"sk-toggleable__content\"><pre>ColumnTransformer(transformers=[(&#x27;mean_pipeline&#x27;,\n",
              "                                 Pipeline(steps=[(&#x27;imputer&#x27;, SimpleImputer())]),\n",
              "                                 [&#x27;age&#x27;]),\n",
              "                                (&#x27;most_frequent_pipeline&#x27;,\n",
              "                                 Pipeline(steps=[(&#x27;imputer&#x27;,\n",
              "                                                  SimpleImputer(strategy=&#x27;most_frequent&#x27;))]),\n",
              "                                 [&#x27;embarked&#x27;])])</pre></div></div></div><div class=\"sk-parallel\"><div class=\"sk-parallel-item\"><div class=\"sk-item\"><div class=\"sk-label-container\"><div class=\"sk-label sk-toggleable\"><input class=\"sk-toggleable__control sk-hidden--visually\" id=\"sk-estimator-id-17\" type=\"checkbox\" ><label for=\"sk-estimator-id-17\" class=\"sk-toggleable__label sk-toggleable__label-arrow\">mean_pipeline</label><div class=\"sk-toggleable__content\"><pre>[&#x27;age&#x27;]</pre></div></div></div><div class=\"sk-serial\"><div class=\"sk-item\"><div class=\"sk-serial\"><div class=\"sk-item\"><div class=\"sk-estimator sk-toggleable\"><input class=\"sk-toggleable__control sk-hidden--visually\" id=\"sk-estimator-id-18\" type=\"checkbox\" ><label for=\"sk-estimator-id-18\" class=\"sk-toggleable__label sk-toggleable__label-arrow\">SimpleImputer</label><div class=\"sk-toggleable__content\"><pre>SimpleImputer()</pre></div></div></div></div></div></div></div></div><div class=\"sk-parallel-item\"><div class=\"sk-item\"><div class=\"sk-label-container\"><div class=\"sk-label sk-toggleable\"><input class=\"sk-toggleable__control sk-hidden--visually\" id=\"sk-estimator-id-19\" type=\"checkbox\" ><label for=\"sk-estimator-id-19\" class=\"sk-toggleable__label sk-toggleable__label-arrow\">most_frequent_pipeline</label><div class=\"sk-toggleable__content\"><pre>[&#x27;embarked&#x27;]</pre></div></div></div><div class=\"sk-serial\"><div class=\"sk-item\"><div class=\"sk-serial\"><div class=\"sk-item\"><div class=\"sk-estimator sk-toggleable\"><input class=\"sk-toggleable__control sk-hidden--visually\" id=\"sk-estimator-id-20\" type=\"checkbox\" ><label for=\"sk-estimator-id-20\" class=\"sk-toggleable__label sk-toggleable__label-arrow\">SimpleImputer</label><div class=\"sk-toggleable__content\"><pre>SimpleImputer(strategy=&#x27;most_frequent&#x27;)</pre></div></div></div></div></div></div></div></div></div></div><div class=\"sk-item\"><div class=\"sk-estimator sk-toggleable\"><input class=\"sk-toggleable__control sk-hidden--visually\" id=\"sk-estimator-id-21\" type=\"checkbox\" ><label for=\"sk-estimator-id-21\" class=\"sk-toggleable__label sk-toggleable__label-arrow\">LogisticRegression</label><div class=\"sk-toggleable__content\"><pre>LogisticRegression()</pre></div></div></div></div></div></div></div>"
            ]
          },
          "metadata": {},
          "execution_count": 109
        }
      ]
    },
    {
      "cell_type": "code",
      "source": [
        "pipeline.score(X_train, y_train)"
      ],
      "metadata": {
        "colab": {
          "base_uri": "https://localhost:8080/"
        },
        "id": "sWIzBaQkbk9c",
        "outputId": "24e6eed4-cdad-4b87-de74-071f41eee5b5"
      },
      "execution_count": 115,
      "outputs": [
        {
          "output_type": "execute_result",
          "data": {
            "text/plain": [
              "0.6084049665711557"
            ]
          },
          "metadata": {},
          "execution_count": 115
        }
      ]
    },
    {
      "cell_type": "code",
      "source": [
        "predictions = pipeline.predict(X_test)"
      ],
      "metadata": {
        "id": "AeDuqNe6wQPO"
      },
      "execution_count": 116,
      "outputs": []
    },
    {
      "cell_type": "code",
      "source": [
        "predictions"
      ],
      "metadata": {
        "colab": {
          "base_uri": "https://localhost:8080/"
        },
        "id": "NSmnosFE083h",
        "outputId": "582216b4-b321-4c23-ada7-0b317f09eefa"
      },
      "execution_count": 117,
      "outputs": [
        {
          "output_type": "execute_result",
          "data": {
            "text/plain": [
              "array([0., 0., 0., 0., 0., 0., 0., 0., 0., 0., 0., 0., 0., 0., 0., 0., 0.,\n",
              "       0., 1., 0., 0., 0., 0., 1., 1., 0., 0., 0., 1., 0., 0., 0., 0., 0.,\n",
              "       0., 0., 1., 0., 0., 0., 0., 0., 1., 0., 0., 0., 0., 0., 0., 0., 0.,\n",
              "       0., 0., 0., 0., 0., 0., 0., 0., 1., 0., 0., 0., 0., 0., 0., 0., 0.,\n",
              "       0., 0., 0., 0., 0., 0., 0., 0., 0., 0., 0., 0., 0., 0., 0., 0., 1.,\n",
              "       0., 0., 0., 0., 0., 0., 0., 1., 0., 0., 0., 0., 0., 0., 0., 0., 0.,\n",
              "       0., 0., 0., 0., 0., 0., 1., 0., 0., 0., 0., 0., 0., 0., 0., 0., 0.,\n",
              "       0., 1., 0., 0., 0., 0., 0., 0., 0., 0., 0., 0., 0., 0., 1., 0., 0.,\n",
              "       1., 0., 0., 0., 0., 0., 0., 0., 0., 0., 0., 0., 0., 0., 0., 0., 0.,\n",
              "       0., 0., 0., 0., 0., 1., 0., 0., 0., 0., 0., 0., 0., 0., 0., 0., 0.,\n",
              "       0., 0., 0., 0., 0., 0., 0., 0., 0., 0., 0., 0., 0., 0., 0., 0., 0.,\n",
              "       0., 0., 0., 0., 0., 0., 0., 0., 0., 0., 0., 0., 0., 0., 0., 0., 0.,\n",
              "       0., 1., 0., 0., 0., 0., 0., 0., 0., 0., 0., 0., 0., 0., 1., 0., 1.,\n",
              "       0., 0., 0., 1., 0., 0., 0., 0., 0., 0., 0., 0., 0., 0., 0., 0., 0.,\n",
              "       0., 0., 0., 0., 1., 0., 0., 0., 1., 0., 0., 0., 0., 0., 0., 0., 0.,\n",
              "       0., 0., 0., 0., 0., 0., 0.])"
            ]
          },
          "metadata": {},
          "execution_count": 117
        }
      ]
    },
    {
      "cell_type": "code",
      "source": [
        "from sklearn.metrics import accuracy_score"
      ],
      "metadata": {
        "id": "9XuH-zkEzR-S"
      },
      "execution_count": 118,
      "outputs": []
    },
    {
      "cell_type": "code",
      "source": [
        "accuracy_score(y_test, predictions)"
      ],
      "metadata": {
        "colab": {
          "base_uri": "https://localhost:8080/"
        },
        "id": "2vF7Yb_0zToo",
        "outputId": "8873ffc1-fbce-47dd-e67f-dcdca62cf758"
      },
      "execution_count": 114,
      "outputs": [
        {
          "output_type": "execute_result",
          "data": {
            "text/plain": [
              "0.5725190839694656"
            ]
          },
          "metadata": {},
          "execution_count": 114
        }
      ]
    },
    {
      "cell_type": "markdown",
      "source": [
        "#### Saving the Pipeline"
      ],
      "metadata": {
        "id": "GwYvMjIybzd9"
      }
    },
    {
      "cell_type": "markdown",
      "source": [
        "*joblib library is used to save and reuse any pipeline*"
      ],
      "metadata": {
        "id": "QolgHRLQb26g"
      }
    },
    {
      "cell_type": "code",
      "source": [
        "import joblib"
      ],
      "metadata": {
        "id": "GBqUtb2ocA1l"
      },
      "execution_count": 120,
      "outputs": []
    },
    {
      "cell_type": "code",
      "source": [
        "joblib.dump(pipeline, 'logesticPipeline.pkl')"
      ],
      "metadata": {
        "colab": {
          "base_uri": "https://localhost:8080/"
        },
        "id": "m8fdXmz5cHER",
        "outputId": "9da651fc-d024-42c2-b4ff-b9c5c01e10c5"
      },
      "execution_count": 121,
      "outputs": [
        {
          "output_type": "execute_result",
          "data": {
            "text/plain": [
              "['logesticPipeline.pkl']"
            ]
          },
          "metadata": {},
          "execution_count": 121
        }
      ]
    },
    {
      "cell_type": "markdown",
      "source": [
        "### Using Support Vector Machine"
      ],
      "metadata": {
        "id": "UWJBt5gf3Fx7"
      }
    },
    {
      "cell_type": "code",
      "source": [
        "from sklearn.svm import SVC"
      ],
      "metadata": {
        "id": "rXUfuOKqzWkO"
      },
      "execution_count": 122,
      "outputs": []
    },
    {
      "cell_type": "code",
      "source": [
        "svm = SVC()"
      ],
      "metadata": {
        "id": "nAE0suTdzj10"
      },
      "execution_count": 123,
      "outputs": []
    },
    {
      "cell_type": "code",
      "source": [
        "from sklearn.pipeline import make_pipeline"
      ],
      "metadata": {
        "id": "N-H3bqHbcgRi"
      },
      "execution_count": 128,
      "outputs": []
    },
    {
      "cell_type": "code",
      "source": [
        "svm_pipeline = make_pipeline(transformer, svm)"
      ],
      "metadata": {
        "id": "YHoKZumUcl_U"
      },
      "execution_count": 129,
      "outputs": []
    },
    {
      "cell_type": "code",
      "source": [
        "svm_pipeline.fit(X_train, y_train)"
      ],
      "metadata": {
        "colab": {
          "base_uri": "https://localhost:8080/",
          "height": 190
        },
        "id": "sR89aepZ0PSw",
        "outputId": "b1efe27b-7d68-40a8-b840-f3ac3a554b02"
      },
      "execution_count": 130,
      "outputs": [
        {
          "output_type": "execute_result",
          "data": {
            "text/plain": [
              "Pipeline(steps=[('columntransformer',\n",
              "                 ColumnTransformer(transformers=[('mean_pipeline',\n",
              "                                                  Pipeline(steps=[('imputer',\n",
              "                                                                   SimpleImputer())]),\n",
              "                                                  ['age']),\n",
              "                                                 ('most_frequent_pipeline',\n",
              "                                                  Pipeline(steps=[('imputer',\n",
              "                                                                   SimpleImputer(strategy='most_frequent'))]),\n",
              "                                                  ['embarked'])])),\n",
              "                ('svc', SVC())])"
            ],
            "text/html": [
              "<style>#sk-container-id-5 {color: black;background-color: white;}#sk-container-id-5 pre{padding: 0;}#sk-container-id-5 div.sk-toggleable {background-color: white;}#sk-container-id-5 label.sk-toggleable__label {cursor: pointer;display: block;width: 100%;margin-bottom: 0;padding: 0.3em;box-sizing: border-box;text-align: center;}#sk-container-id-5 label.sk-toggleable__label-arrow:before {content: \"▸\";float: left;margin-right: 0.25em;color: #696969;}#sk-container-id-5 label.sk-toggleable__label-arrow:hover:before {color: black;}#sk-container-id-5 div.sk-estimator:hover label.sk-toggleable__label-arrow:before {color: black;}#sk-container-id-5 div.sk-toggleable__content {max-height: 0;max-width: 0;overflow: hidden;text-align: left;background-color: #f0f8ff;}#sk-container-id-5 div.sk-toggleable__content pre {margin: 0.2em;color: black;border-radius: 0.25em;background-color: #f0f8ff;}#sk-container-id-5 input.sk-toggleable__control:checked~div.sk-toggleable__content {max-height: 200px;max-width: 100%;overflow: auto;}#sk-container-id-5 input.sk-toggleable__control:checked~label.sk-toggleable__label-arrow:before {content: \"▾\";}#sk-container-id-5 div.sk-estimator input.sk-toggleable__control:checked~label.sk-toggleable__label {background-color: #d4ebff;}#sk-container-id-5 div.sk-label input.sk-toggleable__control:checked~label.sk-toggleable__label {background-color: #d4ebff;}#sk-container-id-5 input.sk-hidden--visually {border: 0;clip: rect(1px 1px 1px 1px);clip: rect(1px, 1px, 1px, 1px);height: 1px;margin: -1px;overflow: hidden;padding: 0;position: absolute;width: 1px;}#sk-container-id-5 div.sk-estimator {font-family: monospace;background-color: #f0f8ff;border: 1px dotted black;border-radius: 0.25em;box-sizing: border-box;margin-bottom: 0.5em;}#sk-container-id-5 div.sk-estimator:hover {background-color: #d4ebff;}#sk-container-id-5 div.sk-parallel-item::after {content: \"\";width: 100%;border-bottom: 1px solid gray;flex-grow: 1;}#sk-container-id-5 div.sk-label:hover label.sk-toggleable__label {background-color: #d4ebff;}#sk-container-id-5 div.sk-serial::before {content: \"\";position: absolute;border-left: 1px solid gray;box-sizing: border-box;top: 0;bottom: 0;left: 50%;z-index: 0;}#sk-container-id-5 div.sk-serial {display: flex;flex-direction: column;align-items: center;background-color: white;padding-right: 0.2em;padding-left: 0.2em;position: relative;}#sk-container-id-5 div.sk-item {position: relative;z-index: 1;}#sk-container-id-5 div.sk-parallel {display: flex;align-items: stretch;justify-content: center;background-color: white;position: relative;}#sk-container-id-5 div.sk-item::before, #sk-container-id-5 div.sk-parallel-item::before {content: \"\";position: absolute;border-left: 1px solid gray;box-sizing: border-box;top: 0;bottom: 0;left: 50%;z-index: -1;}#sk-container-id-5 div.sk-parallel-item {display: flex;flex-direction: column;z-index: 1;position: relative;background-color: white;}#sk-container-id-5 div.sk-parallel-item:first-child::after {align-self: flex-end;width: 50%;}#sk-container-id-5 div.sk-parallel-item:last-child::after {align-self: flex-start;width: 50%;}#sk-container-id-5 div.sk-parallel-item:only-child::after {width: 0;}#sk-container-id-5 div.sk-dashed-wrapped {border: 1px dashed gray;margin: 0 0.4em 0.5em 0.4em;box-sizing: border-box;padding-bottom: 0.4em;background-color: white;}#sk-container-id-5 div.sk-label label {font-family: monospace;font-weight: bold;display: inline-block;line-height: 1.2em;}#sk-container-id-5 div.sk-label-container {text-align: center;}#sk-container-id-5 div.sk-container {/* jupyter's `normalize.less` sets `[hidden] { display: none; }` but bootstrap.min.css set `[hidden] { display: none !important; }` so we also need the `!important` here to be able to override the default hidden behavior on the sphinx rendered scikit-learn.org. See: https://github.com/scikit-learn/scikit-learn/issues/21755 */display: inline-block !important;position: relative;}#sk-container-id-5 div.sk-text-repr-fallback {display: none;}</style><div id=\"sk-container-id-5\" class=\"sk-top-container\"><div class=\"sk-text-repr-fallback\"><pre>Pipeline(steps=[(&#x27;columntransformer&#x27;,\n",
              "                 ColumnTransformer(transformers=[(&#x27;mean_pipeline&#x27;,\n",
              "                                                  Pipeline(steps=[(&#x27;imputer&#x27;,\n",
              "                                                                   SimpleImputer())]),\n",
              "                                                  [&#x27;age&#x27;]),\n",
              "                                                 (&#x27;most_frequent_pipeline&#x27;,\n",
              "                                                  Pipeline(steps=[(&#x27;imputer&#x27;,\n",
              "                                                                   SimpleImputer(strategy=&#x27;most_frequent&#x27;))]),\n",
              "                                                  [&#x27;embarked&#x27;])])),\n",
              "                (&#x27;svc&#x27;, SVC())])</pre><b>In a Jupyter environment, please rerun this cell to show the HTML representation or trust the notebook. <br />On GitHub, the HTML representation is unable to render, please try loading this page with nbviewer.org.</b></div><div class=\"sk-container\" hidden><div class=\"sk-item sk-dashed-wrapped\"><div class=\"sk-label-container\"><div class=\"sk-label sk-toggleable\"><input class=\"sk-toggleable__control sk-hidden--visually\" id=\"sk-estimator-id-23\" type=\"checkbox\" ><label for=\"sk-estimator-id-23\" class=\"sk-toggleable__label sk-toggleable__label-arrow\">Pipeline</label><div class=\"sk-toggleable__content\"><pre>Pipeline(steps=[(&#x27;columntransformer&#x27;,\n",
              "                 ColumnTransformer(transformers=[(&#x27;mean_pipeline&#x27;,\n",
              "                                                  Pipeline(steps=[(&#x27;imputer&#x27;,\n",
              "                                                                   SimpleImputer())]),\n",
              "                                                  [&#x27;age&#x27;]),\n",
              "                                                 (&#x27;most_frequent_pipeline&#x27;,\n",
              "                                                  Pipeline(steps=[(&#x27;imputer&#x27;,\n",
              "                                                                   SimpleImputer(strategy=&#x27;most_frequent&#x27;))]),\n",
              "                                                  [&#x27;embarked&#x27;])])),\n",
              "                (&#x27;svc&#x27;, SVC())])</pre></div></div></div><div class=\"sk-serial\"><div class=\"sk-item sk-dashed-wrapped\"><div class=\"sk-label-container\"><div class=\"sk-label sk-toggleable\"><input class=\"sk-toggleable__control sk-hidden--visually\" id=\"sk-estimator-id-24\" type=\"checkbox\" ><label for=\"sk-estimator-id-24\" class=\"sk-toggleable__label sk-toggleable__label-arrow\">columntransformer: ColumnTransformer</label><div class=\"sk-toggleable__content\"><pre>ColumnTransformer(transformers=[(&#x27;mean_pipeline&#x27;,\n",
              "                                 Pipeline(steps=[(&#x27;imputer&#x27;, SimpleImputer())]),\n",
              "                                 [&#x27;age&#x27;]),\n",
              "                                (&#x27;most_frequent_pipeline&#x27;,\n",
              "                                 Pipeline(steps=[(&#x27;imputer&#x27;,\n",
              "                                                  SimpleImputer(strategy=&#x27;most_frequent&#x27;))]),\n",
              "                                 [&#x27;embarked&#x27;])])</pre></div></div></div><div class=\"sk-parallel\"><div class=\"sk-parallel-item\"><div class=\"sk-item\"><div class=\"sk-label-container\"><div class=\"sk-label sk-toggleable\"><input class=\"sk-toggleable__control sk-hidden--visually\" id=\"sk-estimator-id-25\" type=\"checkbox\" ><label for=\"sk-estimator-id-25\" class=\"sk-toggleable__label sk-toggleable__label-arrow\">mean_pipeline</label><div class=\"sk-toggleable__content\"><pre>[&#x27;age&#x27;]</pre></div></div></div><div class=\"sk-serial\"><div class=\"sk-item\"><div class=\"sk-serial\"><div class=\"sk-item\"><div class=\"sk-estimator sk-toggleable\"><input class=\"sk-toggleable__control sk-hidden--visually\" id=\"sk-estimator-id-26\" type=\"checkbox\" ><label for=\"sk-estimator-id-26\" class=\"sk-toggleable__label sk-toggleable__label-arrow\">SimpleImputer</label><div class=\"sk-toggleable__content\"><pre>SimpleImputer()</pre></div></div></div></div></div></div></div></div><div class=\"sk-parallel-item\"><div class=\"sk-item\"><div class=\"sk-label-container\"><div class=\"sk-label sk-toggleable\"><input class=\"sk-toggleable__control sk-hidden--visually\" id=\"sk-estimator-id-27\" type=\"checkbox\" ><label for=\"sk-estimator-id-27\" class=\"sk-toggleable__label sk-toggleable__label-arrow\">most_frequent_pipeline</label><div class=\"sk-toggleable__content\"><pre>[&#x27;embarked&#x27;]</pre></div></div></div><div class=\"sk-serial\"><div class=\"sk-item\"><div class=\"sk-serial\"><div class=\"sk-item\"><div class=\"sk-estimator sk-toggleable\"><input class=\"sk-toggleable__control sk-hidden--visually\" id=\"sk-estimator-id-28\" type=\"checkbox\" ><label for=\"sk-estimator-id-28\" class=\"sk-toggleable__label sk-toggleable__label-arrow\">SimpleImputer</label><div class=\"sk-toggleable__content\"><pre>SimpleImputer(strategy=&#x27;most_frequent&#x27;)</pre></div></div></div></div></div></div></div></div></div></div><div class=\"sk-item\"><div class=\"sk-estimator sk-toggleable\"><input class=\"sk-toggleable__control sk-hidden--visually\" id=\"sk-estimator-id-29\" type=\"checkbox\" ><label for=\"sk-estimator-id-29\" class=\"sk-toggleable__label sk-toggleable__label-arrow\">SVC</label><div class=\"sk-toggleable__content\"><pre>SVC()</pre></div></div></div></div></div></div></div>"
            ]
          },
          "metadata": {},
          "execution_count": 130
        }
      ]
    },
    {
      "cell_type": "code",
      "source": [
        "svm_pipeline.score(X_train, y_train)"
      ],
      "metadata": {
        "colab": {
          "base_uri": "https://localhost:8080/"
        },
        "id": "WriQwqFscs0U",
        "outputId": "97ab7af3-caca-4dad-f20f-63a0092e2340"
      },
      "execution_count": 131,
      "outputs": [
        {
          "output_type": "execute_result",
          "data": {
            "text/plain": [
              "0.6389684813753582"
            ]
          },
          "metadata": {},
          "execution_count": 131
        }
      ]
    },
    {
      "cell_type": "code",
      "source": [
        "svm_predictions = svm_pipeline.predict(X_test)"
      ],
      "metadata": {
        "id": "-0HLg__R0Q9t"
      },
      "execution_count": 132,
      "outputs": []
    },
    {
      "cell_type": "code",
      "source": [
        "svm_predictions"
      ],
      "metadata": {
        "colab": {
          "base_uri": "https://localhost:8080/"
        },
        "id": "uLaKt1g904O6",
        "outputId": "a999200d-e8da-4f24-c229-c6b7b4c6b249"
      },
      "execution_count": 133,
      "outputs": [
        {
          "output_type": "execute_result",
          "data": {
            "text/plain": [
              "array([0., 0., 0., 1., 0., 0., 0., 0., 0., 0., 0., 0., 0., 0., 0., 0., 0.,\n",
              "       0., 0., 0., 1., 0., 0., 0., 0., 0., 0., 0., 0., 0., 0., 0., 1., 0.,\n",
              "       0., 0., 0., 0., 0., 0., 0., 0., 0., 0., 0., 0., 0., 0., 0., 0., 0.,\n",
              "       0., 0., 0., 0., 0., 0., 0., 0., 0., 0., 0., 0., 0., 0., 0., 0., 0.,\n",
              "       0., 0., 0., 0., 0., 0., 0., 0., 0., 0., 0., 0., 0., 1., 0., 0., 0.,\n",
              "       0., 0., 0., 0., 0., 0., 0., 0., 0., 0., 0., 0., 0., 0., 0., 0., 0.,\n",
              "       0., 0., 0., 0., 0., 0., 0., 0., 0., 0., 0., 0., 0., 0., 0., 0., 0.,\n",
              "       0., 0., 0., 0., 0., 0., 0., 1., 0., 0., 0., 0., 0., 0., 0., 0., 0.,\n",
              "       0., 0., 0., 0., 0., 0., 0., 0., 0., 0., 0., 0., 0., 0., 0., 0., 0.,\n",
              "       0., 0., 0., 0., 0., 0., 0., 1., 0., 0., 0., 0., 0., 0., 0., 0., 0.,\n",
              "       0., 0., 0., 0., 0., 0., 0., 0., 0., 0., 0., 0., 0., 0., 0., 0., 0.,\n",
              "       0., 0., 1., 0., 0., 0., 0., 0., 0., 1., 0., 0., 0., 0., 0., 0., 0.,\n",
              "       0., 0., 0., 0., 0., 0., 0., 0., 0., 0., 0., 0., 0., 0., 0., 0., 0.,\n",
              "       0., 0., 0., 1., 0., 0., 0., 0., 0., 0., 1., 0., 0., 0., 0., 0., 0.,\n",
              "       0., 0., 0., 0., 0., 0., 0., 0., 0., 0., 0., 0., 0., 0., 0., 1., 0.,\n",
              "       0., 0., 0., 0., 0., 0., 0.])"
            ]
          },
          "metadata": {},
          "execution_count": 133
        }
      ]
    },
    {
      "cell_type": "code",
      "source": [
        "accuracy_score(y_test, svm_predictions)"
      ],
      "metadata": {
        "colab": {
          "base_uri": "https://localhost:8080/"
        },
        "id": "ZhR0f6Nb0Uq-",
        "outputId": "a0998b1e-b68e-4ef0-bb1a-e634d1ce0e11"
      },
      "execution_count": 134,
      "outputs": [
        {
          "output_type": "execute_result",
          "data": {
            "text/plain": [
              "0.5992366412213741"
            ]
          },
          "metadata": {},
          "execution_count": 134
        }
      ]
    },
    {
      "cell_type": "markdown",
      "source": [
        "### Using Decision Tree"
      ],
      "metadata": {
        "id": "8q_PWBrdcySS"
      }
    },
    {
      "cell_type": "code",
      "source": [
        "from sklearn.tree import DecisionTreeClassifier"
      ],
      "metadata": {
        "id": "srgccp-3c4jk"
      },
      "execution_count": 135,
      "outputs": []
    },
    {
      "cell_type": "code",
      "source": [
        "dtc = DecisionTreeClassifier()"
      ],
      "metadata": {
        "id": "nx1VAbyrc7Ye"
      },
      "execution_count": 136,
      "outputs": []
    },
    {
      "cell_type": "code",
      "source": [
        "from sklearn.pipeline import make_pipeline"
      ],
      "metadata": {
        "id": "9tsJxLD2dBNO"
      },
      "execution_count": 138,
      "outputs": []
    },
    {
      "cell_type": "code",
      "source": [
        "dtc_pipeline = make_pipeline(transformer, dtc)"
      ],
      "metadata": {
        "id": "kCpPSlNNc9UG"
      },
      "execution_count": 139,
      "outputs": []
    },
    {
      "cell_type": "code",
      "source": [
        "dtc_pipeline.fit(X_train, y_train)"
      ],
      "metadata": {
        "colab": {
          "base_uri": "https://localhost:8080/",
          "height": 190
        },
        "id": "9wN0kzjPdAY1",
        "outputId": "773bf9dc-98ac-43c3-edc9-f5e5ea0d3087"
      },
      "execution_count": 140,
      "outputs": [
        {
          "output_type": "execute_result",
          "data": {
            "text/plain": [
              "Pipeline(steps=[('columntransformer',\n",
              "                 ColumnTransformer(transformers=[('mean_pipeline',\n",
              "                                                  Pipeline(steps=[('imputer',\n",
              "                                                                   SimpleImputer())]),\n",
              "                                                  ['age']),\n",
              "                                                 ('most_frequent_pipeline',\n",
              "                                                  Pipeline(steps=[('imputer',\n",
              "                                                                   SimpleImputer(strategy='most_frequent'))]),\n",
              "                                                  ['embarked'])])),\n",
              "                ('decisiontreeclassifier', DecisionTreeClassifier())])"
            ],
            "text/html": [
              "<style>#sk-container-id-6 {color: black;background-color: white;}#sk-container-id-6 pre{padding: 0;}#sk-container-id-6 div.sk-toggleable {background-color: white;}#sk-container-id-6 label.sk-toggleable__label {cursor: pointer;display: block;width: 100%;margin-bottom: 0;padding: 0.3em;box-sizing: border-box;text-align: center;}#sk-container-id-6 label.sk-toggleable__label-arrow:before {content: \"▸\";float: left;margin-right: 0.25em;color: #696969;}#sk-container-id-6 label.sk-toggleable__label-arrow:hover:before {color: black;}#sk-container-id-6 div.sk-estimator:hover label.sk-toggleable__label-arrow:before {color: black;}#sk-container-id-6 div.sk-toggleable__content {max-height: 0;max-width: 0;overflow: hidden;text-align: left;background-color: #f0f8ff;}#sk-container-id-6 div.sk-toggleable__content pre {margin: 0.2em;color: black;border-radius: 0.25em;background-color: #f0f8ff;}#sk-container-id-6 input.sk-toggleable__control:checked~div.sk-toggleable__content {max-height: 200px;max-width: 100%;overflow: auto;}#sk-container-id-6 input.sk-toggleable__control:checked~label.sk-toggleable__label-arrow:before {content: \"▾\";}#sk-container-id-6 div.sk-estimator input.sk-toggleable__control:checked~label.sk-toggleable__label {background-color: #d4ebff;}#sk-container-id-6 div.sk-label input.sk-toggleable__control:checked~label.sk-toggleable__label {background-color: #d4ebff;}#sk-container-id-6 input.sk-hidden--visually {border: 0;clip: rect(1px 1px 1px 1px);clip: rect(1px, 1px, 1px, 1px);height: 1px;margin: -1px;overflow: hidden;padding: 0;position: absolute;width: 1px;}#sk-container-id-6 div.sk-estimator {font-family: monospace;background-color: #f0f8ff;border: 1px dotted black;border-radius: 0.25em;box-sizing: border-box;margin-bottom: 0.5em;}#sk-container-id-6 div.sk-estimator:hover {background-color: #d4ebff;}#sk-container-id-6 div.sk-parallel-item::after {content: \"\";width: 100%;border-bottom: 1px solid gray;flex-grow: 1;}#sk-container-id-6 div.sk-label:hover label.sk-toggleable__label {background-color: #d4ebff;}#sk-container-id-6 div.sk-serial::before {content: \"\";position: absolute;border-left: 1px solid gray;box-sizing: border-box;top: 0;bottom: 0;left: 50%;z-index: 0;}#sk-container-id-6 div.sk-serial {display: flex;flex-direction: column;align-items: center;background-color: white;padding-right: 0.2em;padding-left: 0.2em;position: relative;}#sk-container-id-6 div.sk-item {position: relative;z-index: 1;}#sk-container-id-6 div.sk-parallel {display: flex;align-items: stretch;justify-content: center;background-color: white;position: relative;}#sk-container-id-6 div.sk-item::before, #sk-container-id-6 div.sk-parallel-item::before {content: \"\";position: absolute;border-left: 1px solid gray;box-sizing: border-box;top: 0;bottom: 0;left: 50%;z-index: -1;}#sk-container-id-6 div.sk-parallel-item {display: flex;flex-direction: column;z-index: 1;position: relative;background-color: white;}#sk-container-id-6 div.sk-parallel-item:first-child::after {align-self: flex-end;width: 50%;}#sk-container-id-6 div.sk-parallel-item:last-child::after {align-self: flex-start;width: 50%;}#sk-container-id-6 div.sk-parallel-item:only-child::after {width: 0;}#sk-container-id-6 div.sk-dashed-wrapped {border: 1px dashed gray;margin: 0 0.4em 0.5em 0.4em;box-sizing: border-box;padding-bottom: 0.4em;background-color: white;}#sk-container-id-6 div.sk-label label {font-family: monospace;font-weight: bold;display: inline-block;line-height: 1.2em;}#sk-container-id-6 div.sk-label-container {text-align: center;}#sk-container-id-6 div.sk-container {/* jupyter's `normalize.less` sets `[hidden] { display: none; }` but bootstrap.min.css set `[hidden] { display: none !important; }` so we also need the `!important` here to be able to override the default hidden behavior on the sphinx rendered scikit-learn.org. See: https://github.com/scikit-learn/scikit-learn/issues/21755 */display: inline-block !important;position: relative;}#sk-container-id-6 div.sk-text-repr-fallback {display: none;}</style><div id=\"sk-container-id-6\" class=\"sk-top-container\"><div class=\"sk-text-repr-fallback\"><pre>Pipeline(steps=[(&#x27;columntransformer&#x27;,\n",
              "                 ColumnTransformer(transformers=[(&#x27;mean_pipeline&#x27;,\n",
              "                                                  Pipeline(steps=[(&#x27;imputer&#x27;,\n",
              "                                                                   SimpleImputer())]),\n",
              "                                                  [&#x27;age&#x27;]),\n",
              "                                                 (&#x27;most_frequent_pipeline&#x27;,\n",
              "                                                  Pipeline(steps=[(&#x27;imputer&#x27;,\n",
              "                                                                   SimpleImputer(strategy=&#x27;most_frequent&#x27;))]),\n",
              "                                                  [&#x27;embarked&#x27;])])),\n",
              "                (&#x27;decisiontreeclassifier&#x27;, DecisionTreeClassifier())])</pre><b>In a Jupyter environment, please rerun this cell to show the HTML representation or trust the notebook. <br />On GitHub, the HTML representation is unable to render, please try loading this page with nbviewer.org.</b></div><div class=\"sk-container\" hidden><div class=\"sk-item sk-dashed-wrapped\"><div class=\"sk-label-container\"><div class=\"sk-label sk-toggleable\"><input class=\"sk-toggleable__control sk-hidden--visually\" id=\"sk-estimator-id-30\" type=\"checkbox\" ><label for=\"sk-estimator-id-30\" class=\"sk-toggleable__label sk-toggleable__label-arrow\">Pipeline</label><div class=\"sk-toggleable__content\"><pre>Pipeline(steps=[(&#x27;columntransformer&#x27;,\n",
              "                 ColumnTransformer(transformers=[(&#x27;mean_pipeline&#x27;,\n",
              "                                                  Pipeline(steps=[(&#x27;imputer&#x27;,\n",
              "                                                                   SimpleImputer())]),\n",
              "                                                  [&#x27;age&#x27;]),\n",
              "                                                 (&#x27;most_frequent_pipeline&#x27;,\n",
              "                                                  Pipeline(steps=[(&#x27;imputer&#x27;,\n",
              "                                                                   SimpleImputer(strategy=&#x27;most_frequent&#x27;))]),\n",
              "                                                  [&#x27;embarked&#x27;])])),\n",
              "                (&#x27;decisiontreeclassifier&#x27;, DecisionTreeClassifier())])</pre></div></div></div><div class=\"sk-serial\"><div class=\"sk-item sk-dashed-wrapped\"><div class=\"sk-label-container\"><div class=\"sk-label sk-toggleable\"><input class=\"sk-toggleable__control sk-hidden--visually\" id=\"sk-estimator-id-31\" type=\"checkbox\" ><label for=\"sk-estimator-id-31\" class=\"sk-toggleable__label sk-toggleable__label-arrow\">columntransformer: ColumnTransformer</label><div class=\"sk-toggleable__content\"><pre>ColumnTransformer(transformers=[(&#x27;mean_pipeline&#x27;,\n",
              "                                 Pipeline(steps=[(&#x27;imputer&#x27;, SimpleImputer())]),\n",
              "                                 [&#x27;age&#x27;]),\n",
              "                                (&#x27;most_frequent_pipeline&#x27;,\n",
              "                                 Pipeline(steps=[(&#x27;imputer&#x27;,\n",
              "                                                  SimpleImputer(strategy=&#x27;most_frequent&#x27;))]),\n",
              "                                 [&#x27;embarked&#x27;])])</pre></div></div></div><div class=\"sk-parallel\"><div class=\"sk-parallel-item\"><div class=\"sk-item\"><div class=\"sk-label-container\"><div class=\"sk-label sk-toggleable\"><input class=\"sk-toggleable__control sk-hidden--visually\" id=\"sk-estimator-id-32\" type=\"checkbox\" ><label for=\"sk-estimator-id-32\" class=\"sk-toggleable__label sk-toggleable__label-arrow\">mean_pipeline</label><div class=\"sk-toggleable__content\"><pre>[&#x27;age&#x27;]</pre></div></div></div><div class=\"sk-serial\"><div class=\"sk-item\"><div class=\"sk-serial\"><div class=\"sk-item\"><div class=\"sk-estimator sk-toggleable\"><input class=\"sk-toggleable__control sk-hidden--visually\" id=\"sk-estimator-id-33\" type=\"checkbox\" ><label for=\"sk-estimator-id-33\" class=\"sk-toggleable__label sk-toggleable__label-arrow\">SimpleImputer</label><div class=\"sk-toggleable__content\"><pre>SimpleImputer()</pre></div></div></div></div></div></div></div></div><div class=\"sk-parallel-item\"><div class=\"sk-item\"><div class=\"sk-label-container\"><div class=\"sk-label sk-toggleable\"><input class=\"sk-toggleable__control sk-hidden--visually\" id=\"sk-estimator-id-34\" type=\"checkbox\" ><label for=\"sk-estimator-id-34\" class=\"sk-toggleable__label sk-toggleable__label-arrow\">most_frequent_pipeline</label><div class=\"sk-toggleable__content\"><pre>[&#x27;embarked&#x27;]</pre></div></div></div><div class=\"sk-serial\"><div class=\"sk-item\"><div class=\"sk-serial\"><div class=\"sk-item\"><div class=\"sk-estimator sk-toggleable\"><input class=\"sk-toggleable__control sk-hidden--visually\" id=\"sk-estimator-id-35\" type=\"checkbox\" ><label for=\"sk-estimator-id-35\" class=\"sk-toggleable__label sk-toggleable__label-arrow\">SimpleImputer</label><div class=\"sk-toggleable__content\"><pre>SimpleImputer(strategy=&#x27;most_frequent&#x27;)</pre></div></div></div></div></div></div></div></div></div></div><div class=\"sk-item\"><div class=\"sk-estimator sk-toggleable\"><input class=\"sk-toggleable__control sk-hidden--visually\" id=\"sk-estimator-id-36\" type=\"checkbox\" ><label for=\"sk-estimator-id-36\" class=\"sk-toggleable__label sk-toggleable__label-arrow\">DecisionTreeClassifier</label><div class=\"sk-toggleable__content\"><pre>DecisionTreeClassifier()</pre></div></div></div></div></div></div></div>"
            ]
          },
          "metadata": {},
          "execution_count": 140
        }
      ]
    },
    {
      "cell_type": "code",
      "source": [
        "dtc_pipeline.score(X_train, y_train)"
      ],
      "metadata": {
        "colab": {
          "base_uri": "https://localhost:8080/"
        },
        "id": "kOcBB9i0dEmk",
        "outputId": "408300a2-252c-499a-d901-7bf2c240791e"
      },
      "execution_count": 141,
      "outputs": [
        {
          "output_type": "execute_result",
          "data": {
            "text/plain": [
              "0.7220630372492837"
            ]
          },
          "metadata": {},
          "execution_count": 141
        }
      ]
    },
    {
      "cell_type": "code",
      "source": [
        "dtc_pipeline.predict(X_test)"
      ],
      "metadata": {
        "colab": {
          "base_uri": "https://localhost:8080/"
        },
        "id": "iohg2BUGdHmg",
        "outputId": "db144000-1238-4430-c8ca-3ba7ac38162f"
      },
      "execution_count": 142,
      "outputs": [
        {
          "output_type": "execute_result",
          "data": {
            "text/plain": [
              "array([0., 0., 1., 0., 0., 0., 0., 1., 0., 0., 0., 0., 0., 0., 0., 0., 0.,\n",
              "       0., 0., 0., 1., 0., 0., 0., 0., 0., 0., 0., 0., 0., 0., 0., 1., 0.,\n",
              "       0., 0., 0., 0., 0., 0., 0., 0., 0., 0., 0., 0., 0., 0., 0., 1., 0.,\n",
              "       0., 0., 0., 0., 0., 0., 0., 0., 0., 1., 0., 0., 0., 0., 0., 0., 0.,\n",
              "       0., 0., 0., 0., 0., 0., 0., 0., 0., 0., 0., 1., 0., 1., 0., 1., 1.,\n",
              "       1., 0., 0., 0., 1., 0., 0., 0., 1., 1., 1., 0., 0., 0., 1., 0., 0.,\n",
              "       0., 1., 0., 0., 0., 0., 0., 0., 0., 0., 0., 0., 0., 1., 0., 0., 1.,\n",
              "       1., 0., 0., 0., 0., 0., 0., 0., 0., 0., 0., 0., 0., 0., 0., 0., 0.,\n",
              "       0., 0., 0., 0., 0., 0., 1., 0., 0., 0., 1., 0., 0., 1., 0., 0., 0.,\n",
              "       0., 0., 0., 0., 0., 0., 0., 0., 1., 0., 1., 0., 0., 0., 0., 0., 0.,\n",
              "       0., 0., 0., 1., 0., 0., 0., 0., 0., 1., 0., 0., 0., 1., 0., 1., 0.,\n",
              "       0., 1., 1., 0., 0., 0., 0., 0., 0., 0., 0., 0., 0., 0., 0., 0., 0.,\n",
              "       0., 0., 0., 0., 0., 0., 0., 1., 0., 0., 0., 0., 0., 0., 0., 0., 0.,\n",
              "       0., 0., 0., 0., 0., 0., 0., 0., 0., 0., 1., 0., 0., 0., 0., 0., 1.,\n",
              "       0., 0., 1., 0., 0., 1., 1., 1., 1., 0., 0., 0., 1., 0., 0., 1., 0.,\n",
              "       0., 0., 0., 0., 0., 0., 0.])"
            ]
          },
          "metadata": {},
          "execution_count": 142
        }
      ]
    },
    {
      "cell_type": "code",
      "source": [
        "accuracy_score(y_test, dtc_pipeline.predict(X_test))"
      ],
      "metadata": {
        "colab": {
          "base_uri": "https://localhost:8080/"
        },
        "id": "y0tqIX9ydKvt",
        "outputId": "4e14d992-fc6b-4ae8-8da1-1b03761d38af"
      },
      "execution_count": 143,
      "outputs": [
        {
          "output_type": "execute_result",
          "data": {
            "text/plain": [
              "0.6450381679389313"
            ]
          },
          "metadata": {},
          "execution_count": 143
        }
      ]
    },
    {
      "cell_type": "code",
      "source": [
        "from sklearn.tree import plot_tree"
      ],
      "metadata": {
        "id": "N3uVo2Lcdtsc"
      },
      "execution_count": 146,
      "outputs": []
    },
    {
      "cell_type": "code",
      "source": [
        "plot_tree(dtc.fit(X_train, y_train))"
      ],
      "metadata": {
        "colab": {
          "base_uri": "https://localhost:8080/",
          "height": 1000
        },
        "id": "hxsnhckUdxCS",
        "outputId": "505db968-1d71-4b1a-8f18-2b895d985d65"
      },
      "execution_count": 147,
      "outputs": [
        {
          "output_type": "execute_result",
          "data": {
            "text/plain": [
              "[Text(0.3987148416166029, 0.9761904761904762, 'x[1] <= 0.5\\ngini = 0.469\\nsamples = 1047\\nvalue = [653, 394]'),\n",
              " Text(0.22190742763517204, 0.9285714285714286, 'x[0] <= 2.5\\ngini = 0.413\\nsamples = 371\\nvalue = [108, 263]'),\n",
              " Text(0.1324412889131622, 0.8809523809523809, 'x[3] <= 0.5\\ngini = 0.139\\nsamples = 200\\nvalue = [15, 185]'),\n",
              " Text(0.10759148006553795, 0.8333333333333334, 'x[2] <= 56.0\\ngini = 0.193\\nsamples = 129\\nvalue = [14, 115]'),\n",
              " Text(0.0797378481703987, 0.7857142857142857, 'x[2] <= 30.5\\ngini = 0.168\\nsamples = 119\\nvalue = [11, 108]'),\n",
              " Text(0.045876570180229385, 0.7380952380952381, 'x[2] <= 24.5\\ngini = 0.221\\nsamples = 71\\nvalue = [9, 62]'),\n",
              " Text(0.017476788640087382, 0.6904761904761905, 'x[2] <= 3.0\\ngini = 0.136\\nsamples = 41\\nvalue = [3, 38]'),\n",
              " Text(0.008738394320043691, 0.6428571428571429, 'x[0] <= 1.5\\ngini = 0.444\\nsamples = 3\\nvalue = [1, 2]'),\n",
              " Text(0.004369197160021846, 0.5952380952380952, 'gini = 0.0\\nsamples = 1\\nvalue = [1, 0]'),\n",
              " Text(0.013107591480065538, 0.5952380952380952, 'gini = 0.0\\nsamples = 2\\nvalue = [0, 2]'),\n",
              " Text(0.026215182960131075, 0.6428571428571429, 'x[2] <= 17.5\\ngini = 0.1\\nsamples = 38\\nvalue = [2, 36]'),\n",
              " Text(0.02184598580010923, 0.5952380952380952, 'gini = 0.0\\nsamples = 13\\nvalue = [0, 13]'),\n",
              " Text(0.030584380120152924, 0.5952380952380952, 'x[2] <= 18.5\\ngini = 0.147\\nsamples = 25\\nvalue = [2, 23]'),\n",
              " Text(0.017476788640087382, 0.5476190476190477, 'x[4] <= 1.5\\ngini = 0.375\\nsamples = 4\\nvalue = [1, 3]'),\n",
              " Text(0.013107591480065538, 0.5, 'gini = 0.0\\nsamples = 1\\nvalue = [0, 1]'),\n",
              " Text(0.02184598580010923, 0.5, 'x[0] <= 1.5\\ngini = 0.444\\nsamples = 3\\nvalue = [1, 2]'),\n",
              " Text(0.017476788640087382, 0.4523809523809524, 'gini = 0.0\\nsamples = 1\\nvalue = [0, 1]'),\n",
              " Text(0.026215182960131075, 0.4523809523809524, 'gini = 0.5\\nsamples = 2\\nvalue = [1, 1]'),\n",
              " Text(0.04369197160021846, 0.5476190476190477, 'x[4] <= 0.5\\ngini = 0.091\\nsamples = 21\\nvalue = [1, 20]'),\n",
              " Text(0.03932277444019661, 0.5, 'x[2] <= 21.0\\ngini = 0.245\\nsamples = 7\\nvalue = [1, 6]'),\n",
              " Text(0.034953577280174765, 0.4523809523809524, 'gini = 0.0\\nsamples = 4\\nvalue = [0, 4]'),\n",
              " Text(0.04369197160021846, 0.4523809523809524, 'x[0] <= 1.5\\ngini = 0.444\\nsamples = 3\\nvalue = [1, 2]'),\n",
              " Text(0.03932277444019661, 0.40476190476190477, 'gini = 0.0\\nsamples = 1\\nvalue = [0, 1]'),\n",
              " Text(0.0480611687602403, 0.40476190476190477, 'gini = 0.5\\nsamples = 2\\nvalue = [1, 1]'),\n",
              " Text(0.0480611687602403, 0.5, 'gini = 0.0\\nsamples = 14\\nvalue = [0, 14]'),\n",
              " Text(0.07427635172037138, 0.6904761904761905, 'x[2] <= 27.5\\ngini = 0.32\\nsamples = 30\\nvalue = [6, 24]'),\n",
              " Text(0.06116876024030585, 0.6428571428571429, 'x[4] <= 0.5\\ngini = 0.49\\nsamples = 7\\nvalue = [3, 4]'),\n",
              " Text(0.056799563080284, 0.5952380952380952, 'gini = 0.0\\nsamples = 2\\nvalue = [0, 2]'),\n",
              " Text(0.0655379574003277, 0.5952380952380952, 'x[2] <= 25.5\\ngini = 0.48\\nsamples = 5\\nvalue = [3, 2]'),\n",
              " Text(0.06116876024030585, 0.5476190476190477, 'x[0] <= 1.5\\ngini = 0.444\\nsamples = 3\\nvalue = [1, 2]'),\n",
              " Text(0.056799563080284, 0.5, 'gini = 0.0\\nsamples = 1\\nvalue = [1, 0]'),\n",
              " Text(0.0655379574003277, 0.5, 'gini = 0.0\\nsamples = 2\\nvalue = [0, 2]'),\n",
              " Text(0.06990715456034953, 0.5476190476190477, 'gini = 0.0\\nsamples = 2\\nvalue = [2, 0]'),\n",
              " Text(0.08738394320043692, 0.6428571428571429, 'x[0] <= 1.5\\ngini = 0.227\\nsamples = 23\\nvalue = [3, 20]'),\n",
              " Text(0.08301474604041507, 0.5952380952380952, 'gini = 0.0\\nsamples = 10\\nvalue = [0, 10]'),\n",
              " Text(0.09175314036045877, 0.5952380952380952, 'x[2] <= 29.441\\ngini = 0.355\\nsamples = 13\\nvalue = [3, 10]'),\n",
              " Text(0.07864554888039323, 0.5476190476190477, 'x[2] <= 28.5\\ngini = 0.219\\nsamples = 8\\nvalue = [1, 7]'),\n",
              " Text(0.07427635172037138, 0.5, 'gini = 0.0\\nsamples = 3\\nvalue = [0, 3]'),\n",
              " Text(0.08301474604041507, 0.5, 'x[4] <= 0.5\\ngini = 0.32\\nsamples = 5\\nvalue = [1, 4]'),\n",
              " Text(0.07864554888039323, 0.4523809523809524, 'gini = 0.0\\nsamples = 1\\nvalue = [0, 1]'),\n",
              " Text(0.08738394320043692, 0.4523809523809524, 'gini = 0.375\\nsamples = 4\\nvalue = [1, 3]'),\n",
              " Text(0.1048607318405243, 0.5476190476190477, 'x[4] <= 1.5\\ngini = 0.48\\nsamples = 5\\nvalue = [2, 3]'),\n",
              " Text(0.10049153468050245, 0.5, 'x[2] <= 29.941\\ngini = 0.5\\nsamples = 4\\nvalue = [2, 2]'),\n",
              " Text(0.0961223375204806, 0.4523809523809524, 'gini = 0.5\\nsamples = 2\\nvalue = [1, 1]'),\n",
              " Text(0.1048607318405243, 0.4523809523809524, 'gini = 0.5\\nsamples = 2\\nvalue = [1, 1]'),\n",
              " Text(0.10922992900054615, 0.5, 'gini = 0.0\\nsamples = 1\\nvalue = [0, 1]'),\n",
              " Text(0.113599126160568, 0.7380952380952381, 'x[0] <= 1.5\\ngini = 0.08\\nsamples = 48\\nvalue = [2, 46]'),\n",
              " Text(0.10922992900054615, 0.6904761904761905, 'gini = 0.0\\nsamples = 20\\nvalue = [0, 20]'),\n",
              " Text(0.11796832332058985, 0.6904761904761905, 'x[2] <= 37.0\\ngini = 0.133\\nsamples = 28\\nvalue = [2, 26]'),\n",
              " Text(0.113599126160568, 0.6428571428571429, 'gini = 0.0\\nsamples = 10\\nvalue = [0, 10]'),\n",
              " Text(0.1223375204806117, 0.6428571428571429, 'x[2] <= 39.0\\ngini = 0.198\\nsamples = 18\\nvalue = [2, 16]'),\n",
              " Text(0.11796832332058985, 0.5952380952380952, 'gini = 0.0\\nsamples = 1\\nvalue = [1, 0]'),\n",
              " Text(0.12670671764063354, 0.5952380952380952, 'x[2] <= 44.5\\ngini = 0.111\\nsamples = 17\\nvalue = [1, 16]'),\n",
              " Text(0.1223375204806117, 0.5476190476190477, 'x[2] <= 43.0\\ngini = 0.245\\nsamples = 7\\nvalue = [1, 6]'),\n",
              " Text(0.11796832332058985, 0.5, 'gini = 0.0\\nsamples = 6\\nvalue = [0, 6]'),\n",
              " Text(0.12670671764063354, 0.5, 'gini = 0.0\\nsamples = 1\\nvalue = [1, 0]'),\n",
              " Text(0.1310759148006554, 0.5476190476190477, 'gini = 0.0\\nsamples = 10\\nvalue = [0, 10]'),\n",
              " Text(0.13544511196067724, 0.7857142857142857, 'x[0] <= 1.5\\ngini = 0.42\\nsamples = 10\\nvalue = [3, 7]'),\n",
              " Text(0.1310759148006554, 0.7380952380952381, 'x[2] <= 62.5\\ngini = 0.219\\nsamples = 8\\nvalue = [1, 7]'),\n",
              " Text(0.12670671764063354, 0.6904761904761905, 'gini = 0.0\\nsamples = 5\\nvalue = [0, 5]'),\n",
              " Text(0.13544511196067724, 0.6904761904761905, 'x[2] <= 63.5\\ngini = 0.444\\nsamples = 3\\nvalue = [1, 2]'),\n",
              " Text(0.1310759148006554, 0.6428571428571429, 'gini = 0.0\\nsamples = 1\\nvalue = [1, 0]'),\n",
              " Text(0.13981430912069906, 0.6428571428571429, 'gini = 0.0\\nsamples = 2\\nvalue = [0, 2]'),\n",
              " Text(0.13981430912069906, 0.7380952380952381, 'gini = 0.0\\nsamples = 2\\nvalue = [2, 0]'),\n",
              " Text(0.15729109776078645, 0.8333333333333334, 'x[4] <= 0.5\\ngini = 0.028\\nsamples = 71\\nvalue = [1, 70]'),\n",
              " Text(0.1529219006007646, 0.7857142857142857, 'x[2] <= 35.5\\ngini = 0.074\\nsamples = 26\\nvalue = [1, 25]'),\n",
              " Text(0.14855270344074276, 0.7380952380952381, 'gini = 0.0\\nsamples = 14\\nvalue = [0, 14]'),\n",
              " Text(0.15729109776078645, 0.7380952380952381, 'x[2] <= 37.0\\ngini = 0.153\\nsamples = 12\\nvalue = [1, 11]'),\n",
              " Text(0.1529219006007646, 0.6904761904761905, 'gini = 0.444\\nsamples = 3\\nvalue = [1, 2]'),\n",
              " Text(0.1616602949208083, 0.6904761904761905, 'gini = 0.0\\nsamples = 9\\nvalue = [0, 9]'),\n",
              " Text(0.1616602949208083, 0.7857142857142857, 'gini = 0.0\\nsamples = 45\\nvalue = [0, 45]'),\n",
              " Text(0.3113735663571819, 0.8809523809523809, 'x[4] <= 3.5\\ngini = 0.496\\nsamples = 171\\nvalue = [93, 78]'),\n",
              " Text(0.2639268159475696, 0.8333333333333334, 'x[3] <= 0.5\\ngini = 0.5\\nsamples = 147\\nvalue = [72, 75]'),\n",
              " Text(0.2034407427635172, 0.7857142857142857, 'x[2] <= 27.5\\ngini = 0.487\\nsamples = 74\\nvalue = [43, 31]'),\n",
              " Text(0.17476788640087385, 0.7380952380952381, 'x[4] <= 2.5\\ngini = 0.5\\nsamples = 44\\nvalue = [22, 22]'),\n",
              " Text(0.170398689240852, 0.6904761904761905, 'x[2] <= 3.5\\ngini = 0.5\\nsamples = 43\\nvalue = [22, 21]'),\n",
              " Text(0.1578372474057892, 0.6428571428571429, 'x[2] <= 1.5\\ngini = 0.32\\nsamples = 5\\nvalue = [4, 1]'),\n",
              " Text(0.15346805024576735, 0.5952380952380952, 'gini = 0.5\\nsamples = 2\\nvalue = [1, 1]'),\n",
              " Text(0.16220644456581104, 0.5952380952380952, 'gini = 0.0\\nsamples = 3\\nvalue = [3, 0]'),\n",
              " Text(0.1829601310759148, 0.6428571428571429, 'x[2] <= 19.5\\ngini = 0.499\\nsamples = 38\\nvalue = [18, 20]'),\n",
              " Text(0.1709448388858547, 0.5952380952380952, 'x[4] <= 0.5\\ngini = 0.346\\nsamples = 9\\nvalue = [2, 7]'),\n",
              " Text(0.1665756417258329, 0.5476190476190477, 'x[2] <= 9.5\\ngini = 0.48\\nsamples = 5\\nvalue = [2, 3]'),\n",
              " Text(0.16220644456581104, 0.5, 'gini = 0.0\\nsamples = 1\\nvalue = [0, 1]'),\n",
              " Text(0.1709448388858547, 0.5, 'x[2] <= 16.0\\ngini = 0.5\\nsamples = 4\\nvalue = [2, 2]'),\n",
              " Text(0.1665756417258329, 0.4523809523809524, 'gini = 0.0\\nsamples = 1\\nvalue = [1, 0]'),\n",
              " Text(0.17531403604587656, 0.4523809523809524, 'gini = 0.444\\nsamples = 3\\nvalue = [1, 2]'),\n",
              " Text(0.17531403604587656, 0.5476190476190477, 'gini = 0.0\\nsamples = 4\\nvalue = [0, 4]'),\n",
              " Text(0.1949754232659749, 0.5952380952380952, 'x[2] <= 21.5\\ngini = 0.495\\nsamples = 29\\nvalue = [16, 13]'),\n",
              " Text(0.19060622610595304, 0.5476190476190477, 'gini = 0.0\\nsamples = 5\\nvalue = [5, 0]'),\n",
              " Text(0.1993446204259967, 0.5476190476190477, 'x[4] <= 0.5\\ngini = 0.497\\nsamples = 24\\nvalue = [11, 13]'),\n",
              " Text(0.1884216275259421, 0.5, 'x[2] <= 25.5\\ngini = 0.48\\nsamples = 15\\nvalue = [6, 9]'),\n",
              " Text(0.18405243036592026, 0.4523809523809524, 'x[2] <= 23.5\\ngini = 0.5\\nsamples = 12\\nvalue = [6, 6]'),\n",
              " Text(0.1796832332058984, 0.40476190476190477, 'x[2] <= 22.5\\ngini = 0.48\\nsamples = 10\\nvalue = [4, 6]'),\n",
              " Text(0.17531403604587656, 0.35714285714285715, 'gini = 0.444\\nsamples = 6\\nvalue = [2, 4]'),\n",
              " Text(0.18405243036592026, 0.35714285714285715, 'gini = 0.5\\nsamples = 4\\nvalue = [2, 2]'),\n",
              " Text(0.1884216275259421, 0.40476190476190477, 'gini = 0.0\\nsamples = 2\\nvalue = [2, 0]'),\n",
              " Text(0.19279082468596395, 0.4523809523809524, 'gini = 0.0\\nsamples = 3\\nvalue = [0, 3]'),\n",
              " Text(0.21026761332605134, 0.5, 'x[2] <= 24.5\\ngini = 0.494\\nsamples = 9\\nvalue = [5, 4]'),\n",
              " Text(0.20152921900600765, 0.4523809523809524, 'x[2] <= 23.0\\ngini = 0.375\\nsamples = 4\\nvalue = [1, 3]'),\n",
              " Text(0.1971600218459858, 0.40476190476190477, 'gini = 0.5\\nsamples = 2\\nvalue = [1, 1]'),\n",
              " Text(0.2058984161660295, 0.40476190476190477, 'gini = 0.0\\nsamples = 2\\nvalue = [0, 2]'),\n",
              " Text(0.21900600764609504, 0.4523809523809524, 'x[4] <= 1.5\\ngini = 0.32\\nsamples = 5\\nvalue = [4, 1]'),\n",
              " Text(0.2146368104860732, 0.40476190476190477, 'gini = 0.0\\nsamples = 3\\nvalue = [3, 0]'),\n",
              " Text(0.2233752048061169, 0.40476190476190477, 'gini = 0.5\\nsamples = 2\\nvalue = [1, 1]'),\n",
              " Text(0.1791370835608957, 0.6904761904761905, 'gini = 0.0\\nsamples = 1\\nvalue = [0, 1]'),\n",
              " Text(0.23211359912616056, 0.7380952380952381, 'x[2] <= 30.5\\ngini = 0.42\\nsamples = 30\\nvalue = [21, 9]'),\n",
              " Text(0.22119060622610595, 0.6904761904761905, 'x[4] <= 1.5\\ngini = 0.231\\nsamples = 15\\nvalue = [13, 2]'),\n",
              " Text(0.2168214090660841, 0.6428571428571429, 'x[4] <= 0.5\\ngini = 0.32\\nsamples = 10\\nvalue = [8, 2]'),\n",
              " Text(0.21245221190606225, 0.5952380952380952, 'x[2] <= 29.441\\ngini = 0.198\\nsamples = 9\\nvalue = [8, 1]'),\n",
              " Text(0.2080830147460404, 0.5476190476190477, 'gini = 0.0\\nsamples = 3\\nvalue = [3, 0]'),\n",
              " Text(0.2168214090660841, 0.5476190476190477, 'gini = 0.278\\nsamples = 6\\nvalue = [5, 1]'),\n",
              " Text(0.22119060622610595, 0.5952380952380952, 'gini = 0.0\\nsamples = 1\\nvalue = [0, 1]'),\n",
              " Text(0.2255598033861278, 0.6428571428571429, 'gini = 0.0\\nsamples = 5\\nvalue = [5, 0]'),\n",
              " Text(0.2430365920262152, 0.6904761904761905, 'x[2] <= 35.5\\ngini = 0.498\\nsamples = 15\\nvalue = [8, 7]'),\n",
              " Text(0.2342981977061715, 0.6428571428571429, 'x[4] <= 1.5\\ngini = 0.444\\nsamples = 6\\nvalue = [2, 4]'),\n",
              " Text(0.22992900054614965, 0.5952380952380952, 'x[4] <= 0.5\\ngini = 0.444\\nsamples = 3\\nvalue = [2, 1]'),\n",
              " Text(0.2255598033861278, 0.5476190476190477, 'gini = 0.5\\nsamples = 2\\nvalue = [1, 1]'),\n",
              " Text(0.2342981977061715, 0.5476190476190477, 'gini = 0.0\\nsamples = 1\\nvalue = [1, 0]'),\n",
              " Text(0.23866739486619334, 0.5952380952380952, 'gini = 0.0\\nsamples = 3\\nvalue = [0, 3]'),\n",
              " Text(0.2517749863462589, 0.6428571428571429, 'x[2] <= 43.0\\ngini = 0.444\\nsamples = 9\\nvalue = [6, 3]'),\n",
              " Text(0.24740578918623704, 0.5952380952380952, 'gini = 0.0\\nsamples = 4\\nvalue = [4, 0]'),\n",
              " Text(0.2561441835062807, 0.5952380952380952, 'x[2] <= 55.0\\ngini = 0.48\\nsamples = 5\\nvalue = [2, 3]'),\n",
              " Text(0.2517749863462589, 0.5476190476190477, 'x[4] <= 0.5\\ngini = 0.5\\nsamples = 4\\nvalue = [2, 2]'),\n",
              " Text(0.24740578918623704, 0.5, 'gini = 0.0\\nsamples = 1\\nvalue = [1, 0]'),\n",
              " Text(0.2561441835062807, 0.5, 'x[2] <= 46.0\\ngini = 0.444\\nsamples = 3\\nvalue = [1, 2]'),\n",
              " Text(0.2517749863462589, 0.4523809523809524, 'gini = 0.0\\nsamples = 1\\nvalue = [0, 1]'),\n",
              " Text(0.2605133806663026, 0.4523809523809524, 'gini = 0.5\\nsamples = 2\\nvalue = [1, 1]'),\n",
              " Text(0.2605133806663026, 0.5476190476190477, 'gini = 0.0\\nsamples = 1\\nvalue = [0, 1]'),\n",
              " Text(0.3244128891316221, 0.7857142857142857, 'x[2] <= 30.25\\ngini = 0.479\\nsamples = 73\\nvalue = [29, 44]'),\n",
              " Text(0.3074822501365374, 0.7380952380952381, 'x[2] <= 6.5\\ngini = 0.46\\nsamples = 67\\nvalue = [24, 43]'),\n",
              " Text(0.3031130529765156, 0.6904761904761905, 'gini = 0.0\\nsamples = 4\\nvalue = [0, 4]'),\n",
              " Text(0.3118514472965593, 0.6904761904761905, 'x[2] <= 28.0\\ngini = 0.472\\nsamples = 63\\nvalue = [24, 39]'),\n",
              " Text(0.2910977607864555, 0.6428571428571429, 'x[2] <= 16.5\\ngini = 0.5\\nsamples = 20\\nvalue = [10, 10]'),\n",
              " Text(0.2823593664664118, 0.5952380952380952, 'x[2] <= 14.75\\ngini = 0.375\\nsamples = 8\\nvalue = [2, 6]'),\n",
              " Text(0.27799016930639, 0.5476190476190477, 'x[2] <= 14.25\\ngini = 0.5\\nsamples = 4\\nvalue = [2, 2]'),\n",
              " Text(0.2736209721463681, 0.5, 'x[2] <= 11.5\\ngini = 0.444\\nsamples = 3\\nvalue = [1, 2]'),\n",
              " Text(0.2692517749863463, 0.4523809523809524, 'gini = 0.5\\nsamples = 2\\nvalue = [1, 1]'),\n",
              " Text(0.27799016930639, 0.4523809523809524, 'gini = 0.0\\nsamples = 1\\nvalue = [0, 1]'),\n",
              " Text(0.2823593664664118, 0.5, 'gini = 0.0\\nsamples = 1\\nvalue = [1, 0]'),\n",
              " Text(0.2867285636264336, 0.5476190476190477, 'gini = 0.0\\nsamples = 4\\nvalue = [0, 4]'),\n",
              " Text(0.2998361551064992, 0.5952380952380952, 'x[4] <= 1.5\\ngini = 0.444\\nsamples = 12\\nvalue = [8, 4]'),\n",
              " Text(0.2954669579464773, 0.5476190476190477, 'x[2] <= 17.5\\ngini = 0.397\\nsamples = 11\\nvalue = [8, 3]'),\n",
              " Text(0.2910977607864555, 0.5, 'gini = 0.0\\nsamples = 2\\nvalue = [2, 0]'),\n",
              " Text(0.2998361551064992, 0.5, 'x[2] <= 23.0\\ngini = 0.444\\nsamples = 9\\nvalue = [6, 3]'),\n",
              " Text(0.2954669579464773, 0.4523809523809524, 'x[2] <= 21.5\\ngini = 0.49\\nsamples = 7\\nvalue = [4, 3]'),\n",
              " Text(0.2910977607864555, 0.40476190476190477, 'x[4] <= 0.5\\ngini = 0.444\\nsamples = 6\\nvalue = [4, 2]'),\n",
              " Text(0.2867285636264336, 0.35714285714285715, 'x[3] <= 1.5\\ngini = 0.48\\nsamples = 5\\nvalue = [3, 2]'),\n",
              " Text(0.2823593664664118, 0.30952380952380953, 'gini = 0.0\\nsamples = 1\\nvalue = [0, 1]'),\n",
              " Text(0.2910977607864555, 0.30952380952380953, 'x[2] <= 18.5\\ngini = 0.375\\nsamples = 4\\nvalue = [3, 1]'),\n",
              " Text(0.2867285636264336, 0.2619047619047619, 'gini = 0.0\\nsamples = 2\\nvalue = [2, 0]'),\n",
              " Text(0.2954669579464773, 0.2619047619047619, 'x[2] <= 20.0\\ngini = 0.5\\nsamples = 2\\nvalue = [1, 1]'),\n",
              " Text(0.2910977607864555, 0.21428571428571427, 'gini = 0.0\\nsamples = 1\\nvalue = [0, 1]'),\n",
              " Text(0.2998361551064992, 0.21428571428571427, 'gini = 0.0\\nsamples = 1\\nvalue = [1, 0]'),\n",
              " Text(0.2954669579464773, 0.35714285714285715, 'gini = 0.0\\nsamples = 1\\nvalue = [1, 0]'),\n",
              " Text(0.2998361551064992, 0.40476190476190477, 'gini = 0.0\\nsamples = 1\\nvalue = [0, 1]'),\n",
              " Text(0.304205352266521, 0.4523809523809524, 'gini = 0.0\\nsamples = 2\\nvalue = [2, 0]'),\n",
              " Text(0.304205352266521, 0.5476190476190477, 'gini = 0.0\\nsamples = 1\\nvalue = [0, 1]'),\n",
              " Text(0.332605133806663, 0.6428571428571429, 'x[4] <= 0.5\\ngini = 0.439\\nsamples = 43\\nvalue = [14, 29]'),\n",
              " Text(0.3173129437465866, 0.5952380952380952, 'x[3] <= 1.5\\ngini = 0.408\\nsamples = 28\\nvalue = [8, 20]'),\n",
              " Text(0.3129437465865647, 0.5476190476190477, 'gini = 0.0\\nsamples = 2\\nvalue = [0, 2]'),\n",
              " Text(0.3216821409066084, 0.5476190476190477, 'x[2] <= 29.941\\ngini = 0.426\\nsamples = 26\\nvalue = [8, 18]'),\n",
              " Text(0.3173129437465866, 0.5, 'gini = 0.413\\nsamples = 24\\nvalue = [7, 17]'),\n",
              " Text(0.3260513380666303, 0.5, 'gini = 0.5\\nsamples = 2\\nvalue = [1, 1]'),\n",
              " Text(0.3478973238667395, 0.5952380952380952, 'x[4] <= 1.5\\ngini = 0.48\\nsamples = 15\\nvalue = [6, 9]'),\n",
              " Text(0.3391589295466958, 0.5476190476190477, 'x[3] <= 1.5\\ngini = 0.49\\nsamples = 7\\nvalue = [4, 3]'),\n",
              " Text(0.3347897323866739, 0.5, 'gini = 0.0\\nsamples = 3\\nvalue = [3, 0]'),\n",
              " Text(0.3435281267067176, 0.5, 'gini = 0.375\\nsamples = 4\\nvalue = [1, 3]'),\n",
              " Text(0.3566357181867832, 0.5476190476190477, 'x[2] <= 29.441\\ngini = 0.375\\nsamples = 8\\nvalue = [2, 6]'),\n",
              " Text(0.3522665210267613, 0.5, 'gini = 0.0\\nsamples = 1\\nvalue = [0, 1]'),\n",
              " Text(0.361004915346805, 0.5, 'x[3] <= 1.5\\ngini = 0.408\\nsamples = 7\\nvalue = [2, 5]'),\n",
              " Text(0.3566357181867832, 0.4523809523809524, 'gini = 0.375\\nsamples = 4\\nvalue = [1, 3]'),\n",
              " Text(0.3653741125068269, 0.4523809523809524, 'gini = 0.444\\nsamples = 3\\nvalue = [1, 2]'),\n",
              " Text(0.3413435281267067, 0.7380952380952381, 'x[2] <= 41.0\\ngini = 0.278\\nsamples = 6\\nvalue = [5, 1]'),\n",
              " Text(0.3369743309666849, 0.6904761904761905, 'gini = 0.0\\nsamples = 4\\nvalue = [4, 0]'),\n",
              " Text(0.3457127252867286, 0.6904761904761905, 'x[4] <= 0.5\\ngini = 0.5\\nsamples = 2\\nvalue = [1, 1]'),\n",
              " Text(0.3413435281267067, 0.6428571428571429, 'gini = 0.0\\nsamples = 1\\nvalue = [0, 1]'),\n",
              " Text(0.3500819224467504, 0.6428571428571429, 'gini = 0.0\\nsamples = 1\\nvalue = [1, 0]'),\n",
              " Text(0.3588203167667941, 0.8333333333333334, 'x[4] <= 5.5\\ngini = 0.219\\nsamples = 24\\nvalue = [21, 3]'),\n",
              " Text(0.3544511196067723, 0.7857142857142857, 'gini = 0.0\\nsamples = 12\\nvalue = [12, 0]'),\n",
              " Text(0.3631895139268159, 0.7857142857142857, 'x[4] <= 6.5\\ngini = 0.375\\nsamples = 12\\nvalue = [9, 3]'),\n",
              " Text(0.3588203167667941, 0.7380952380952381, 'x[2] <= 3.5\\ngini = 0.5\\nsamples = 6\\nvalue = [3, 3]'),\n",
              " Text(0.3544511196067723, 0.6904761904761905, 'gini = 0.0\\nsamples = 1\\nvalue = [1, 0]'),\n",
              " Text(0.3631895139268159, 0.6904761904761905, 'x[2] <= 7.0\\ngini = 0.48\\nsamples = 5\\nvalue = [2, 3]'),\n",
              " Text(0.3588203167667941, 0.6428571428571429, 'gini = 0.0\\nsamples = 1\\nvalue = [0, 1]'),\n",
              " Text(0.3675587110868378, 0.6428571428571429, 'x[2] <= 13.0\\ngini = 0.5\\nsamples = 4\\nvalue = [2, 2]'),\n",
              " Text(0.3631895139268159, 0.5952380952380952, 'gini = 0.0\\nsamples = 1\\nvalue = [1, 0]'),\n",
              " Text(0.3719279082468596, 0.5952380952380952, 'x[2] <= 27.5\\ngini = 0.444\\nsamples = 3\\nvalue = [1, 2]'),\n",
              " Text(0.3675587110868378, 0.5476190476190477, 'gini = 0.0\\nsamples = 1\\nvalue = [0, 1]'),\n",
              " Text(0.3762971054068815, 0.5476190476190477, 'gini = 0.5\\nsamples = 2\\nvalue = [1, 1]'),\n",
              " Text(0.3675587110868378, 0.7380952380952381, 'gini = 0.0\\nsamples = 6\\nvalue = [6, 0]'),\n",
              " Text(0.5755222555980338, 0.9285714285714286, 'x[2] <= 12.5\\ngini = 0.312\\nsamples = 676\\nvalue = [545, 131]'),\n",
              " Text(0.3937738940469689, 0.8809523809523809, 'x[4] <= 3.5\\ngini = 0.485\\nsamples = 41\\nvalue = [17, 24]'),\n",
              " Text(0.3806663025669033, 0.8333333333333334, 'x[2] <= 0.375\\ngini = 0.252\\nsamples = 27\\nvalue = [4, 23]'),\n",
              " Text(0.3762971054068815, 0.7857142857142857, 'gini = 0.0\\nsamples = 1\\nvalue = [1, 0]'),\n",
              " Text(0.3850354997269252, 0.7857142857142857, 'x[4] <= 0.5\\ngini = 0.204\\nsamples = 26\\nvalue = [3, 23]'),\n",
              " Text(0.3806663025669033, 0.7380952380952381, 'gini = 0.0\\nsamples = 1\\nvalue = [1, 0]'),\n",
              " Text(0.389404696886947, 0.7380952380952381, 'x[2] <= 0.792\\ngini = 0.147\\nsamples = 25\\nvalue = [2, 23]'),\n",
              " Text(0.3806663025669033, 0.6904761904761905, 'x[2] <= 0.708\\ngini = 0.444\\nsamples = 3\\nvalue = [1, 2]'),\n",
              " Text(0.3762971054068815, 0.6428571428571429, 'gini = 0.0\\nsamples = 2\\nvalue = [0, 2]'),\n",
              " Text(0.3850354997269252, 0.6428571428571429, 'gini = 0.0\\nsamples = 1\\nvalue = [1, 0]'),\n",
              " Text(0.3981430912069907, 0.6904761904761905, 'x[3] <= 0.5\\ngini = 0.087\\nsamples = 22\\nvalue = [1, 21]'),\n",
              " Text(0.3937738940469689, 0.6428571428571429, 'gini = 0.0\\nsamples = 17\\nvalue = [0, 17]'),\n",
              " Text(0.4025122883670126, 0.6428571428571429, 'x[0] <= 2.5\\ngini = 0.32\\nsamples = 5\\nvalue = [1, 4]'),\n",
              " Text(0.3981430912069907, 0.5952380952380952, 'gini = 0.0\\nsamples = 2\\nvalue = [0, 2]'),\n",
              " Text(0.4068814855270344, 0.5952380952380952, 'x[2] <= 6.5\\ngini = 0.444\\nsamples = 3\\nvalue = [1, 2]'),\n",
              " Text(0.4025122883670126, 0.5476190476190477, 'gini = 0.0\\nsamples = 1\\nvalue = [1, 0]'),\n",
              " Text(0.4112506826870563, 0.5476190476190477, 'gini = 0.0\\nsamples = 2\\nvalue = [0, 2]'),\n",
              " Text(0.4068814855270344, 0.8333333333333334, 'x[2] <= 3.5\\ngini = 0.133\\nsamples = 14\\nvalue = [13, 1]'),\n",
              " Text(0.4025122883670126, 0.7857142857142857, 'x[2] <= 2.5\\ngini = 0.32\\nsamples = 5\\nvalue = [4, 1]'),\n",
              " Text(0.3981430912069907, 0.7380952380952381, 'gini = 0.0\\nsamples = 4\\nvalue = [4, 0]'),\n",
              " Text(0.4068814855270344, 0.7380952380952381, 'gini = 0.0\\nsamples = 1\\nvalue = [0, 1]'),\n",
              " Text(0.4112506826870563, 0.7857142857142857, 'gini = 0.0\\nsamples = 9\\nvalue = [9, 0]'),\n",
              " Text(0.7572706171490988, 0.8809523809523809, 'x[0] <= 1.5\\ngini = 0.28\\nsamples = 635\\nvalue = [528, 107]'),\n",
              " Text(0.5972829055161114, 0.8333333333333334, 'x[2] <= 53.5\\ngini = 0.439\\nsamples = 135\\nvalue = [91, 44]'),\n",
              " Text(0.5484707809939924, 0.7857142857142857, 'x[2] <= 52.5\\ngini = 0.462\\nsamples = 113\\nvalue = [72, 41]'),\n",
              " Text(0.5441015838339706, 0.7380952380952381, 'x[2] <= 36.5\\ngini = 0.456\\nsamples = 111\\nvalue = [72, 39]'),\n",
              " Text(0.4989077007099945, 0.6904761904761905, 'x[2] <= 33.75\\ngini = 0.483\\nsamples = 66\\nvalue = [39, 27]'),\n",
              " Text(0.4696886947023484, 0.6428571428571429, 'x[2] <= 28.25\\ngini = 0.47\\nsamples = 61\\nvalue = [38, 23]'),\n",
              " Text(0.4243582741671218, 0.5952380952380952, 'x[2] <= 15.0\\ngini = 0.499\\nsamples = 25\\nvalue = [13, 12]'),\n",
              " Text(0.4199890770070999, 0.5476190476190477, 'gini = 0.0\\nsamples = 1\\nvalue = [0, 1]'),\n",
              " Text(0.4287274713271436, 0.5476190476190477, 'x[2] <= 20.0\\ngini = 0.497\\nsamples = 24\\nvalue = [13, 11]'),\n",
              " Text(0.4057891862370289, 0.5, 'x[3] <= 0.5\\ngini = 0.32\\nsamples = 5\\nvalue = [4, 1]'),\n",
              " Text(0.4014199890770071, 0.4523809523809524, 'gini = 0.0\\nsamples = 3\\nvalue = [3, 0]'),\n",
              " Text(0.4101583833970508, 0.4523809523809524, 'x[4] <= 1.5\\ngini = 0.5\\nsamples = 2\\nvalue = [1, 1]'),\n",
              " Text(0.4057891862370289, 0.40476190476190477, 'gini = 0.0\\nsamples = 1\\nvalue = [1, 0]'),\n",
              " Text(0.4145275805570726, 0.40476190476190477, 'gini = 0.0\\nsamples = 1\\nvalue = [0, 1]'),\n",
              " Text(0.4516657564172583, 0.5, 'x[4] <= 1.5\\ngini = 0.499\\nsamples = 19\\nvalue = [9, 10]'),\n",
              " Text(0.4472965592572365, 0.4523809523809524, 'x[2] <= 24.5\\ngini = 0.494\\nsamples = 18\\nvalue = [8, 10]'),\n",
              " Text(0.4232659748771163, 0.40476190476190477, 'x[4] <= 0.5\\ngini = 0.49\\nsamples = 7\\nvalue = [4, 3]'),\n",
              " Text(0.4188967777170945, 0.35714285714285715, 'gini = 0.0\\nsamples = 2\\nvalue = [2, 0]'),\n",
              " Text(0.4276351720371382, 0.35714285714285715, 'x[2] <= 22.0\\ngini = 0.48\\nsamples = 5\\nvalue = [2, 3]'),\n",
              " Text(0.4188967777170945, 0.30952380952380953, 'x[3] <= 0.5\\ngini = 0.5\\nsamples = 2\\nvalue = [1, 1]'),\n",
              " Text(0.4145275805570726, 0.2619047619047619, 'gini = 0.0\\nsamples = 1\\nvalue = [1, 0]'),\n",
              " Text(0.4232659748771163, 0.2619047619047619, 'gini = 0.0\\nsamples = 1\\nvalue = [0, 1]'),\n",
              " Text(0.4363735663571819, 0.30952380952380953, 'x[3] <= 0.5\\ngini = 0.444\\nsamples = 3\\nvalue = [1, 2]'),\n",
              " Text(0.43200436919716, 0.2619047619047619, 'gini = 0.0\\nsamples = 1\\nvalue = [0, 1]'),\n",
              " Text(0.4407427635172037, 0.2619047619047619, 'x[2] <= 23.5\\ngini = 0.5\\nsamples = 2\\nvalue = [1, 1]'),\n",
              " Text(0.4363735663571819, 0.21428571428571427, 'gini = 0.0\\nsamples = 1\\nvalue = [0, 1]'),\n",
              " Text(0.4451119606772256, 0.21428571428571427, 'gini = 0.0\\nsamples = 1\\nvalue = [1, 0]'),\n",
              " Text(0.4713271436373566, 0.40476190476190477, 'x[2] <= 27.5\\ngini = 0.463\\nsamples = 11\\nvalue = [4, 7]'),\n",
              " Text(0.4625887493173129, 0.35714285714285715, 'x[3] <= 0.5\\ngini = 0.408\\nsamples = 7\\nvalue = [2, 5]'),\n",
              " Text(0.4582195521572911, 0.30952380952380953, 'gini = 0.0\\nsamples = 1\\nvalue = [0, 1]'),\n",
              " Text(0.4669579464773348, 0.30952380952380953, 'x[2] <= 26.5\\ngini = 0.444\\nsamples = 6\\nvalue = [2, 4]'),\n",
              " Text(0.4582195521572911, 0.2619047619047619, 'x[4] <= 0.5\\ngini = 0.375\\nsamples = 4\\nvalue = [1, 3]'),\n",
              " Text(0.4538503549972693, 0.21428571428571427, 'x[2] <= 25.5\\ngini = 0.5\\nsamples = 2\\nvalue = [1, 1]'),\n",
              " Text(0.4494811578372474, 0.16666666666666666, 'gini = 0.0\\nsamples = 1\\nvalue = [1, 0]'),\n",
              " Text(0.4582195521572911, 0.16666666666666666, 'gini = 0.0\\nsamples = 1\\nvalue = [0, 1]'),\n",
              " Text(0.4625887493173129, 0.21428571428571427, 'gini = 0.0\\nsamples = 2\\nvalue = [0, 2]'),\n",
              " Text(0.4756963407973785, 0.2619047619047619, 'x[4] <= 0.5\\ngini = 0.5\\nsamples = 2\\nvalue = [1, 1]'),\n",
              " Text(0.4713271436373566, 0.21428571428571427, 'gini = 0.0\\nsamples = 1\\nvalue = [0, 1]'),\n",
              " Text(0.4800655379574003, 0.21428571428571427, 'gini = 0.0\\nsamples = 1\\nvalue = [1, 0]'),\n",
              " Text(0.4800655379574003, 0.35714285714285715, 'x[4] <= 0.5\\ngini = 0.5\\nsamples = 4\\nvalue = [2, 2]'),\n",
              " Text(0.4756963407973785, 0.30952380952380953, 'gini = 0.444\\nsamples = 3\\nvalue = [1, 2]'),\n",
              " Text(0.4844347351174222, 0.30952380952380953, 'gini = 0.0\\nsamples = 1\\nvalue = [1, 0]'),\n",
              " Text(0.4560349535772802, 0.4523809523809524, 'gini = 0.0\\nsamples = 1\\nvalue = [1, 0]'),\n",
              " Text(0.515019115237575, 0.5952380952380952, 'x[2] <= 29.441\\ngini = 0.424\\nsamples = 36\\nvalue = [25, 11]'),\n",
              " Text(0.5106499180775532, 0.5476190476190477, 'gini = 0.0\\nsamples = 3\\nvalue = [3, 0]'),\n",
              " Text(0.519388312397597, 0.5476190476190477, 'x[2] <= 30.5\\ngini = 0.444\\nsamples = 33\\nvalue = [22, 11]'),\n",
              " Text(0.5106499180775532, 0.5, 'x[4] <= 2.0\\ngini = 0.428\\nsamples = 29\\nvalue = [20, 9]'),\n",
              " Text(0.5062807209175314, 0.4523809523809524, 'x[4] <= 0.5\\ngini = 0.436\\nsamples = 28\\nvalue = [19, 9]'),\n",
              " Text(0.5019115237575096, 0.40476190476190477, 'x[2] <= 29.941\\ngini = 0.417\\nsamples = 27\\nvalue = [19, 8]'),\n",
              " Text(0.4975423265974877, 0.35714285714285715, 'x[3] <= 0.5\\ngini = 0.435\\nsamples = 25\\nvalue = [17, 8]'),\n",
              " Text(0.4931731294374659, 0.30952380952380953, 'gini = 0.432\\nsamples = 19\\nvalue = [13, 6]'),\n",
              " Text(0.5019115237575096, 0.30952380952380953, 'gini = 0.444\\nsamples = 6\\nvalue = [4, 2]'),\n",
              " Text(0.5062807209175314, 0.35714285714285715, 'gini = 0.0\\nsamples = 2\\nvalue = [2, 0]'),\n",
              " Text(0.5106499180775532, 0.40476190476190477, 'gini = 0.0\\nsamples = 1\\nvalue = [0, 1]'),\n",
              " Text(0.515019115237575, 0.4523809523809524, 'gini = 0.0\\nsamples = 1\\nvalue = [1, 0]'),\n",
              " Text(0.5281267067176406, 0.5, 'x[2] <= 32.25\\ngini = 0.5\\nsamples = 4\\nvalue = [2, 2]'),\n",
              " Text(0.5237575095576188, 0.4523809523809524, 'x[2] <= 31.5\\ngini = 0.444\\nsamples = 3\\nvalue = [1, 2]'),\n",
              " Text(0.519388312397597, 0.40476190476190477, 'gini = 0.5\\nsamples = 2\\nvalue = [1, 1]'),\n",
              " Text(0.5281267067176406, 0.40476190476190477, 'gini = 0.0\\nsamples = 1\\nvalue = [0, 1]'),\n",
              " Text(0.5324959038776624, 0.4523809523809524, 'gini = 0.0\\nsamples = 1\\nvalue = [1, 0]'),\n",
              " Text(0.5281267067176406, 0.6428571428571429, 'x[2] <= 35.5\\ngini = 0.32\\nsamples = 5\\nvalue = [1, 4]'),\n",
              " Text(0.5237575095576188, 0.5952380952380952, 'gini = 0.0\\nsamples = 3\\nvalue = [0, 3]'),\n",
              " Text(0.5324959038776624, 0.5952380952380952, 'x[3] <= 0.5\\ngini = 0.5\\nsamples = 2\\nvalue = [1, 1]'),\n",
              " Text(0.5281267067176406, 0.5476190476190477, 'gini = 0.0\\nsamples = 1\\nvalue = [0, 1]'),\n",
              " Text(0.5368651010376844, 0.5476190476190477, 'gini = 0.0\\nsamples = 1\\nvalue = [1, 0]'),\n",
              " Text(0.5892954669579464, 0.6904761904761905, 'x[2] <= 47.5\\ngini = 0.391\\nsamples = 45\\nvalue = [33, 12]'),\n",
              " Text(0.5674494811578372, 0.6428571428571429, 'x[4] <= 1.5\\ngini = 0.305\\nsamples = 32\\nvalue = [26, 6]'),\n",
              " Text(0.5587110868377936, 0.5952380952380952, 'x[2] <= 45.25\\ngini = 0.245\\nsamples = 28\\nvalue = [24, 4]'),\n",
              " Text(0.5543418896777718, 0.5476190476190477, 'x[2] <= 43.5\\ngini = 0.332\\nsamples = 19\\nvalue = [15, 4]'),\n",
              " Text(0.545603495357728, 0.5, 'x[2] <= 40.5\\ngini = 0.231\\nsamples = 15\\nvalue = [13, 2]'),\n",
              " Text(0.5412342981977062, 0.4523809523809524, 'x[2] <= 37.5\\ngini = 0.346\\nsamples = 9\\nvalue = [7, 2]'),\n",
              " Text(0.5368651010376844, 0.40476190476190477, 'gini = 0.0\\nsamples = 1\\nvalue = [1, 0]'),\n",
              " Text(0.545603495357728, 0.40476190476190477, 'x[4] <= 0.5\\ngini = 0.375\\nsamples = 8\\nvalue = [6, 2]'),\n",
              " Text(0.5368651010376844, 0.35714285714285715, 'x[3] <= 0.5\\ngini = 0.32\\nsamples = 5\\nvalue = [4, 1]'),\n",
              " Text(0.5324959038776624, 0.30952380952380953, 'gini = 0.0\\nsamples = 3\\nvalue = [3, 0]'),\n",
              " Text(0.5412342981977062, 0.30952380952380953, 'gini = 0.5\\nsamples = 2\\nvalue = [1, 1]'),\n",
              " Text(0.5543418896777718, 0.35714285714285715, 'x[3] <= 0.5\\ngini = 0.444\\nsamples = 3\\nvalue = [2, 1]'),\n",
              " Text(0.5499726925177498, 0.30952380952380953, 'gini = 0.5\\nsamples = 2\\nvalue = [1, 1]'),\n",
              " Text(0.5587110868377936, 0.30952380952380953, 'gini = 0.0\\nsamples = 1\\nvalue = [1, 0]'),\n",
              " Text(0.5499726925177498, 0.4523809523809524, 'gini = 0.0\\nsamples = 6\\nvalue = [6, 0]'),\n",
              " Text(0.5630802839978154, 0.5, 'x[3] <= 0.5\\ngini = 0.5\\nsamples = 4\\nvalue = [2, 2]'),\n",
              " Text(0.5587110868377936, 0.4523809523809524, 'gini = 0.444\\nsamples = 3\\nvalue = [2, 1]'),\n",
              " Text(0.5674494811578372, 0.4523809523809524, 'gini = 0.0\\nsamples = 1\\nvalue = [0, 1]'),\n",
              " Text(0.5630802839978154, 0.5476190476190477, 'gini = 0.0\\nsamples = 9\\nvalue = [9, 0]'),\n",
              " Text(0.576187875477881, 0.5952380952380952, 'x[3] <= 0.5\\ngini = 0.5\\nsamples = 4\\nvalue = [2, 2]'),\n",
              " Text(0.571818678317859, 0.5476190476190477, 'gini = 0.0\\nsamples = 1\\nvalue = [0, 1]'),\n",
              " Text(0.5805570726379028, 0.5476190476190477, 'x[2] <= 44.5\\ngini = 0.444\\nsamples = 3\\nvalue = [2, 1]'),\n",
              " Text(0.576187875477881, 0.5, 'gini = 0.0\\nsamples = 2\\nvalue = [2, 0]'),\n",
              " Text(0.5849262697979246, 0.5, 'gini = 0.0\\nsamples = 1\\nvalue = [0, 1]'),\n",
              " Text(0.6111414527580558, 0.6428571428571429, 'x[2] <= 49.5\\ngini = 0.497\\nsamples = 13\\nvalue = [7, 6]'),\n",
              " Text(0.602403058438012, 0.5952380952380952, 'x[4] <= 1.5\\ngini = 0.408\\nsamples = 7\\nvalue = [2, 5]'),\n",
              " Text(0.5980338612779902, 0.5476190476190477, 'x[3] <= 0.5\\ngini = 0.278\\nsamples = 6\\nvalue = [1, 5]'),\n",
              " Text(0.5936646641179684, 0.5, 'gini = 0.0\\nsamples = 3\\nvalue = [0, 3]'),\n",
              " Text(0.602403058438012, 0.5, 'x[4] <= 0.5\\ngini = 0.444\\nsamples = 3\\nvalue = [1, 2]'),\n",
              " Text(0.5980338612779902, 0.4523809523809524, 'gini = 0.0\\nsamples = 1\\nvalue = [1, 0]'),\n",
              " Text(0.6067722555980338, 0.4523809523809524, 'gini = 0.0\\nsamples = 2\\nvalue = [0, 2]'),\n",
              " Text(0.6067722555980338, 0.5476190476190477, 'gini = 0.0\\nsamples = 1\\nvalue = [1, 0]'),\n",
              " Text(0.6198798470780994, 0.5952380952380952, 'x[4] <= 0.5\\ngini = 0.278\\nsamples = 6\\nvalue = [5, 1]'),\n",
              " Text(0.6155106499180776, 0.5476190476190477, 'x[2] <= 50.5\\ngini = 0.5\\nsamples = 2\\nvalue = [1, 1]'),\n",
              " Text(0.6111414527580558, 0.5, 'gini = 0.0\\nsamples = 1\\nvalue = [1, 0]'),\n",
              " Text(0.6198798470780994, 0.5, 'gini = 0.0\\nsamples = 1\\nvalue = [0, 1]'),\n",
              " Text(0.6242490442381212, 0.5476190476190477, 'gini = 0.0\\nsamples = 4\\nvalue = [4, 0]'),\n",
              " Text(0.5528399781540142, 0.7380952380952381, 'gini = 0.0\\nsamples = 2\\nvalue = [0, 2]'),\n",
              " Text(0.6460950300382304, 0.7857142857142857, 'x[2] <= 75.5\\ngini = 0.236\\nsamples = 22\\nvalue = [19, 3]'),\n",
              " Text(0.6417258328782086, 0.7380952380952381, 'x[3] <= 0.5\\ngini = 0.172\\nsamples = 21\\nvalue = [19, 2]'),\n",
              " Text(0.6373566357181868, 0.6904761904761905, 'gini = 0.0\\nsamples = 12\\nvalue = [12, 0]'),\n",
              " Text(0.6460950300382304, 0.6904761904761905, 'x[2] <= 60.5\\ngini = 0.346\\nsamples = 9\\nvalue = [7, 2]'),\n",
              " Text(0.6417258328782086, 0.6428571428571429, 'x[2] <= 59.0\\ngini = 0.444\\nsamples = 6\\nvalue = [4, 2]'),\n",
              " Text(0.6373566357181868, 0.5952380952380952, 'x[2] <= 56.5\\ngini = 0.32\\nsamples = 5\\nvalue = [4, 1]'),\n",
              " Text(0.632987438558165, 0.5476190476190477, 'x[4] <= 0.5\\ngini = 0.5\\nsamples = 2\\nvalue = [1, 1]'),\n",
              " Text(0.628618241398143, 0.5, 'gini = 0.0\\nsamples = 1\\nvalue = [0, 1]'),\n",
              " Text(0.6373566357181868, 0.5, 'gini = 0.0\\nsamples = 1\\nvalue = [1, 0]'),\n",
              " Text(0.6417258328782086, 0.5476190476190477, 'gini = 0.0\\nsamples = 3\\nvalue = [3, 0]'),\n",
              " Text(0.6460950300382304, 0.5952380952380952, 'gini = 0.0\\nsamples = 1\\nvalue = [0, 1]'),\n",
              " Text(0.6504642271982524, 0.6428571428571429, 'gini = 0.0\\nsamples = 3\\nvalue = [3, 0]'),\n",
              " Text(0.6504642271982524, 0.7380952380952381, 'gini = 0.0\\nsamples = 1\\nvalue = [0, 1]'),\n",
              " Text(0.9172583287820862, 0.8333333333333334, 'x[2] <= 32.25\\ngini = 0.22\\nsamples = 500\\nvalue = [437, 63]'),\n",
              " Text(0.8552703440742764, 0.7857142857142857, 'x[2] <= 30.5\\ngini = 0.254\\nsamples = 381\\nvalue = [324, 57]'),\n",
              " Text(0.784817039868924, 0.7380952380952381, 'x[3] <= 0.5\\ngini = 0.239\\nsamples = 360\\nvalue = [310, 50]'),\n",
              " Text(0.7050791916985254, 0.6904761904761905, 'x[0] <= 2.5\\ngini = 0.211\\nsamples = 267\\nvalue = [235, 32]'),\n",
              " Text(0.6602949208083014, 0.6428571428571429, 'x[2] <= 18.75\\ngini = 0.146\\nsamples = 63\\nvalue = [58, 5]'),\n",
              " Text(0.6559257236482796, 0.5952380952380952, 'gini = 0.0\\nsamples = 10\\nvalue = [10, 0]'),\n",
              " Text(0.6646641179683234, 0.5952380952380952, 'x[2] <= 22.5\\ngini = 0.171\\nsamples = 53\\nvalue = [48, 5]'),\n",
              " Text(0.6504642271982524, 0.5476190476190477, 'x[4] <= 0.5\\ngini = 0.346\\nsamples = 9\\nvalue = [7, 2]'),\n",
              " Text(0.6460950300382304, 0.5, 'x[2] <= 20.5\\ngini = 0.48\\nsamples = 5\\nvalue = [3, 2]'),\n",
              " Text(0.6417258328782086, 0.4523809523809524, 'gini = 0.375\\nsamples = 4\\nvalue = [3, 1]'),\n",
              " Text(0.6504642271982524, 0.4523809523809524, 'gini = 0.0\\nsamples = 1\\nvalue = [0, 1]'),\n",
              " Text(0.6548334243582742, 0.5, 'gini = 0.0\\nsamples = 4\\nvalue = [4, 0]'),\n",
              " Text(0.6788640087383944, 0.5476190476190477, 'x[4] <= 1.5\\ngini = 0.127\\nsamples = 44\\nvalue = [41, 3]'),\n",
              " Text(0.6679410158383398, 0.5, 'x[2] <= 24.5\\ngini = 0.097\\nsamples = 39\\nvalue = [37, 2]'),\n",
              " Text(0.659202621518296, 0.4523809523809524, 'x[2] <= 23.5\\ngini = 0.278\\nsamples = 6\\nvalue = [5, 1]'),\n",
              " Text(0.6548334243582742, 0.40476190476190477, 'gini = 0.0\\nsamples = 3\\nvalue = [3, 0]'),\n",
              " Text(0.6635718186783178, 0.40476190476190477, 'gini = 0.444\\nsamples = 3\\nvalue = [2, 1]'),\n",
              " Text(0.6766794101583834, 0.4523809523809524, 'x[2] <= 29.441\\ngini = 0.059\\nsamples = 33\\nvalue = [32, 1]'),\n",
              " Text(0.6723102129983616, 0.40476190476190477, 'gini = 0.0\\nsamples = 21\\nvalue = [21, 0]'),\n",
              " Text(0.6810486073184052, 0.40476190476190477, 'x[2] <= 29.941\\ngini = 0.153\\nsamples = 12\\nvalue = [11, 1]'),\n",
              " Text(0.6766794101583834, 0.35714285714285715, 'gini = 0.245\\nsamples = 7\\nvalue = [6, 1]'),\n",
              " Text(0.685417804478427, 0.35714285714285715, 'gini = 0.0\\nsamples = 5\\nvalue = [5, 0]'),\n",
              " Text(0.689787001638449, 0.5, 'x[2] <= 25.0\\ngini = 0.32\\nsamples = 5\\nvalue = [4, 1]'),\n",
              " Text(0.685417804478427, 0.4523809523809524, 'gini = 0.0\\nsamples = 3\\nvalue = [3, 0]'),\n",
              " Text(0.6941561987984708, 0.4523809523809524, 'x[2] <= 28.0\\ngini = 0.5\\nsamples = 2\\nvalue = [1, 1]'),\n",
              " Text(0.689787001638449, 0.40476190476190477, 'gini = 0.0\\nsamples = 1\\nvalue = [0, 1]'),\n",
              " Text(0.6985253959584926, 0.40476190476190477, 'gini = 0.0\\nsamples = 1\\nvalue = [1, 0]'),\n",
              " Text(0.7498634625887494, 0.6428571428571429, 'x[4] <= 4.5\\ngini = 0.23\\nsamples = 204\\nvalue = [177, 27]'),\n",
              " Text(0.7454942654287274, 0.5952380952380952, 'x[2] <= 15.0\\ngini = 0.238\\nsamples = 196\\nvalue = [169, 27]'),\n",
              " Text(0.7345712725286728, 0.5476190476190477, 'x[2] <= 13.5\\ngini = 0.5\\nsamples = 2\\nvalue = [1, 1]'),\n",
              " Text(0.730202075368651, 0.5, 'gini = 0.0\\nsamples = 1\\nvalue = [1, 0]'),\n",
              " Text(0.7389404696886948, 0.5, 'gini = 0.0\\nsamples = 1\\nvalue = [0, 1]'),\n",
              " Text(0.756417258328782, 0.5476190476190477, 'x[4] <= 3.5\\ngini = 0.232\\nsamples = 194\\nvalue = [168, 26]'),\n",
              " Text(0.7476788640087384, 0.5, 'x[4] <= 1.5\\ngini = 0.227\\nsamples = 192\\nvalue = [167, 25]'),\n",
              " Text(0.7433096668487166, 0.4523809523809524, 'x[2] <= 27.5\\ngini = 0.235\\nsamples = 184\\nvalue = [159, 25]'),\n",
              " Text(0.718186783178591, 0.40476190476190477, 'x[2] <= 24.75\\ngini = 0.267\\nsamples = 107\\nvalue = [90, 17]'),\n",
              " Text(0.6941561987984708, 0.35714285714285715, 'x[2] <= 21.5\\ngini = 0.212\\nsamples = 83\\nvalue = [73, 10]'),\n",
              " Text(0.6766794101583834, 0.30952380952380953, 'x[2] <= 16.5\\ngini = 0.269\\nsamples = 50\\nvalue = [42, 8]'),\n",
              " Text(0.6723102129983616, 0.2619047619047619, 'gini = 0.444\\nsamples = 3\\nvalue = [2, 1]'),\n",
              " Text(0.6810486073184052, 0.2619047619047619, 'x[2] <= 17.5\\ngini = 0.254\\nsamples = 47\\nvalue = [40, 7]'),\n",
              " Text(0.6766794101583834, 0.21428571428571427, 'gini = 0.0\\nsamples = 5\\nvalue = [5, 0]'),\n",
              " Text(0.685417804478427, 0.21428571428571427, 'x[4] <= 0.5\\ngini = 0.278\\nsamples = 42\\nvalue = [35, 7]'),\n",
              " Text(0.6766794101583834, 0.16666666666666666, 'x[2] <= 20.5\\ngini = 0.26\\nsamples = 39\\nvalue = [33, 6]'),\n",
              " Text(0.6723102129983616, 0.11904761904761904, 'x[2] <= 18.5\\ngini = 0.219\\nsamples = 24\\nvalue = [21, 3]'),\n",
              " Text(0.6679410158383398, 0.07142857142857142, 'gini = 0.278\\nsamples = 6\\nvalue = [5, 1]'),\n",
              " Text(0.6766794101583834, 0.07142857142857142, 'x[2] <= 19.5\\ngini = 0.198\\nsamples = 18\\nvalue = [16, 2]'),\n",
              " Text(0.6723102129983616, 0.023809523809523808, 'gini = 0.219\\nsamples = 8\\nvalue = [7, 1]'),\n",
              " Text(0.6810486073184052, 0.023809523809523808, 'gini = 0.18\\nsamples = 10\\nvalue = [9, 1]'),\n",
              " Text(0.6810486073184052, 0.11904761904761904, 'gini = 0.32\\nsamples = 15\\nvalue = [12, 3]'),\n",
              " Text(0.6941561987984708, 0.16666666666666666, 'x[2] <= 19.0\\ngini = 0.444\\nsamples = 3\\nvalue = [2, 1]'),\n",
              " Text(0.689787001638449, 0.11904761904761904, 'gini = 0.0\\nsamples = 1\\nvalue = [1, 0]'),\n",
              " Text(0.6985253959584926, 0.11904761904761904, 'x[2] <= 20.5\\ngini = 0.5\\nsamples = 2\\nvalue = [1, 1]'),\n",
              " Text(0.6941561987984708, 0.07142857142857142, 'gini = 0.0\\nsamples = 1\\nvalue = [0, 1]'),\n",
              " Text(0.7028945931185144, 0.07142857142857142, 'gini = 0.0\\nsamples = 1\\nvalue = [1, 0]'),\n",
              " Text(0.7116329874385582, 0.30952380952380953, 'x[2] <= 22.5\\ngini = 0.114\\nsamples = 33\\nvalue = [31, 2]'),\n",
              " Text(0.7072637902785364, 0.2619047619047619, 'gini = 0.0\\nsamples = 13\\nvalue = [13, 0]'),\n",
              " Text(0.71600218459858, 0.2619047619047619, 'x[2] <= 23.5\\ngini = 0.18\\nsamples = 20\\nvalue = [18, 2]'),\n",
              " Text(0.7072637902785364, 0.21428571428571427, 'x[4] <= 0.5\\ngini = 0.278\\nsamples = 6\\nvalue = [5, 1]'),\n",
              " Text(0.7028945931185144, 0.16666666666666666, 'gini = 0.32\\nsamples = 5\\nvalue = [4, 1]'),\n",
              " Text(0.7116329874385582, 0.16666666666666666, 'gini = 0.0\\nsamples = 1\\nvalue = [1, 0]'),\n",
              " Text(0.7247405789186238, 0.21428571428571427, 'x[2] <= 24.25\\ngini = 0.133\\nsamples = 14\\nvalue = [13, 1]'),\n",
              " Text(0.7203713817586018, 0.16666666666666666, 'x[4] <= 0.5\\ngini = 0.142\\nsamples = 13\\nvalue = [12, 1]'),\n",
              " Text(0.71600218459858, 0.11904761904761904, 'gini = 0.153\\nsamples = 12\\nvalue = [11, 1]'),\n",
              " Text(0.7247405789186238, 0.11904761904761904, 'gini = 0.0\\nsamples = 1\\nvalue = [1, 0]'),\n",
              " Text(0.7291097760786456, 0.16666666666666666, 'gini = 0.0\\nsamples = 1\\nvalue = [1, 0]'),\n",
              " Text(0.742217367558711, 0.35714285714285715, 'x[4] <= 0.5\\ngini = 0.413\\nsamples = 24\\nvalue = [17, 7]'),\n",
              " Text(0.7334789732386674, 0.30952380952380953, 'x[2] <= 25.5\\ngini = 0.42\\nsamples = 20\\nvalue = [14, 6]'),\n",
              " Text(0.7291097760786456, 0.2619047619047619, 'gini = 0.408\\nsamples = 7\\nvalue = [5, 2]'),\n",
              " Text(0.7378481703986892, 0.2619047619047619, 'x[2] <= 26.5\\ngini = 0.426\\nsamples = 13\\nvalue = [9, 4]'),\n",
              " Text(0.7334789732386674, 0.21428571428571427, 'gini = 0.444\\nsamples = 6\\nvalue = [4, 2]'),\n",
              " Text(0.742217367558711, 0.21428571428571427, 'gini = 0.408\\nsamples = 7\\nvalue = [5, 2]'),\n",
              " Text(0.7509557618787548, 0.30952380952380953, 'x[2] <= 25.5\\ngini = 0.375\\nsamples = 4\\nvalue = [3, 1]'),\n",
              " Text(0.746586564718733, 0.2619047619047619, 'gini = 0.444\\nsamples = 3\\nvalue = [2, 1]'),\n",
              " Text(0.7553249590387766, 0.2619047619047619, 'gini = 0.0\\nsamples = 1\\nvalue = [1, 0]'),\n",
              " Text(0.7684325505188422, 0.40476190476190477, 'x[2] <= 28.75\\ngini = 0.186\\nsamples = 77\\nvalue = [69, 8]'),\n",
              " Text(0.7640633533588204, 0.35714285714285715, 'gini = 0.0\\nsamples = 10\\nvalue = [10, 0]'),\n",
              " Text(0.772801747678864, 0.35714285714285715, 'x[4] <= 0.5\\ngini = 0.21\\nsamples = 67\\nvalue = [59, 8]'),\n",
              " Text(0.7684325505188422, 0.30952380952380953, 'x[2] <= 29.441\\ngini = 0.228\\nsamples = 61\\nvalue = [53, 8]'),\n",
              " Text(0.7640633533588204, 0.2619047619047619, 'gini = 0.32\\nsamples = 5\\nvalue = [4, 1]'),\n",
              " Text(0.772801747678864, 0.2619047619047619, 'x[2] <= 29.941\\ngini = 0.219\\nsamples = 56\\nvalue = [49, 7]'),\n",
              " Text(0.7684325505188422, 0.21428571428571427, 'gini = 0.208\\nsamples = 51\\nvalue = [45, 6]'),\n",
              " Text(0.7771709448388858, 0.21428571428571427, 'gini = 0.32\\nsamples = 5\\nvalue = [4, 1]'),\n",
              " Text(0.7771709448388858, 0.30952380952380953, 'gini = 0.0\\nsamples = 6\\nvalue = [6, 0]'),\n",
              " Text(0.7520480611687602, 0.4523809523809524, 'gini = 0.0\\nsamples = 8\\nvalue = [8, 0]'),\n",
              " Text(0.7651556526488258, 0.5, 'x[2] <= 29.441\\ngini = 0.5\\nsamples = 2\\nvalue = [1, 1]'),\n",
              " Text(0.760786455488804, 0.4523809523809524, 'gini = 0.0\\nsamples = 1\\nvalue = [0, 1]'),\n",
              " Text(0.7695248498088476, 0.4523809523809524, 'gini = 0.0\\nsamples = 1\\nvalue = [1, 0]'),\n",
              " Text(0.7542326597487712, 0.5952380952380952, 'gini = 0.0\\nsamples = 8\\nvalue = [8, 0]'),\n",
              " Text(0.8645548880393228, 0.6904761904761905, 'x[4] <= 1.5\\ngini = 0.312\\nsamples = 93\\nvalue = [75, 18]'),\n",
              " Text(0.8427089022392136, 0.6428571428571429, 'x[2] <= 29.441\\ngini = 0.264\\nsamples = 83\\nvalue = [70, 13]'),\n",
              " Text(0.8252321135991262, 0.5952380952380952, 'x[2] <= 28.0\\ngini = 0.408\\nsamples = 28\\nvalue = [20, 8]'),\n",
              " Text(0.8164937192790824, 0.5476190476190477, 'x[3] <= 1.5\\ngini = 0.33\\nsamples = 24\\nvalue = [19, 5]'),\n",
              " Text(0.8121245221190606, 0.5, 'x[2] <= 26.25\\ngini = 0.388\\nsamples = 19\\nvalue = [14, 5]'),\n",
              " Text(0.8077553249590388, 0.4523809523809524, 'x[4] <= 0.5\\ngini = 0.444\\nsamples = 15\\nvalue = [10, 5]'),\n",
              " Text(0.803386127799017, 0.40476190476190477, 'x[2] <= 25.5\\ngini = 0.473\\nsamples = 13\\nvalue = [8, 5]'),\n",
              " Text(0.799016930638995, 0.35714285714285715, 'x[2] <= 20.5\\ngini = 0.444\\nsamples = 12\\nvalue = [8, 4]'),\n",
              " Text(0.7859093391589296, 0.30952380952380953, 'x[2] <= 19.25\\ngini = 0.5\\nsamples = 4\\nvalue = [2, 2]'),\n",
              " Text(0.7815401419989078, 0.2619047619047619, 'gini = 0.0\\nsamples = 1\\nvalue = [1, 0]'),\n",
              " Text(0.7902785363189514, 0.2619047619047619, 'x[0] <= 2.5\\ngini = 0.444\\nsamples = 3\\nvalue = [1, 2]'),\n",
              " Text(0.7859093391589296, 0.21428571428571427, 'gini = 0.0\\nsamples = 1\\nvalue = [0, 1]'),\n",
              " Text(0.7946477334789732, 0.21428571428571427, 'gini = 0.5\\nsamples = 2\\nvalue = [1, 1]'),\n",
              " Text(0.8121245221190606, 0.30952380952380953, 'x[2] <= 24.25\\ngini = 0.375\\nsamples = 8\\nvalue = [6, 2]'),\n",
              " Text(0.8077553249590388, 0.2619047619047619, 'x[2] <= 22.25\\ngini = 0.278\\nsamples = 6\\nvalue = [5, 1]'),\n",
              " Text(0.803386127799017, 0.21428571428571427, 'x[2] <= 21.5\\ngini = 0.444\\nsamples = 3\\nvalue = [2, 1]'),\n",
              " Text(0.799016930638995, 0.16666666666666666, 'gini = 0.0\\nsamples = 1\\nvalue = [1, 0]'),\n",
              " Text(0.8077553249590388, 0.16666666666666666, 'gini = 0.5\\nsamples = 2\\nvalue = [1, 1]'),\n",
              " Text(0.8121245221190606, 0.21428571428571427, 'gini = 0.0\\nsamples = 3\\nvalue = [3, 0]'),\n",
              " Text(0.8164937192790824, 0.2619047619047619, 'gini = 0.5\\nsamples = 2\\nvalue = [1, 1]'),\n",
              " Text(0.8077553249590388, 0.35714285714285715, 'gini = 0.0\\nsamples = 1\\nvalue = [0, 1]'),\n",
              " Text(0.8121245221190606, 0.40476190476190477, 'gini = 0.0\\nsamples = 2\\nvalue = [2, 0]'),\n",
              " Text(0.8164937192790824, 0.4523809523809524, 'gini = 0.0\\nsamples = 4\\nvalue = [4, 0]'),\n",
              " Text(0.8208629164391044, 0.5, 'gini = 0.0\\nsamples = 5\\nvalue = [5, 0]'),\n",
              " Text(0.8339705079191698, 0.5476190476190477, 'x[4] <= 0.5\\ngini = 0.375\\nsamples = 4\\nvalue = [1, 3]'),\n",
              " Text(0.829601310759148, 0.5, 'gini = 0.0\\nsamples = 3\\nvalue = [0, 3]'),\n",
              " Text(0.8383397050791916, 0.5, 'gini = 0.0\\nsamples = 1\\nvalue = [1, 0]'),\n",
              " Text(0.860185690879301, 0.5952380952380952, 'x[3] <= 1.5\\ngini = 0.165\\nsamples = 55\\nvalue = [50, 5]'),\n",
              " Text(0.8514472965592572, 0.5476190476190477, 'x[0] <= 2.5\\ngini = 0.069\\nsamples = 28\\nvalue = [27, 1]'),\n",
              " Text(0.8470780993992354, 0.5, 'x[4] <= 0.5\\ngini = 0.32\\nsamples = 5\\nvalue = [4, 1]'),\n",
              " Text(0.8427089022392136, 0.4523809523809524, 'gini = 0.375\\nsamples = 4\\nvalue = [3, 1]'),\n",
              " Text(0.8514472965592572, 0.4523809523809524, 'gini = 0.0\\nsamples = 1\\nvalue = [1, 0]'),\n",
              " Text(0.855816493719279, 0.5, 'gini = 0.0\\nsamples = 23\\nvalue = [23, 0]'),\n",
              " Text(0.8689240851993446, 0.5476190476190477, 'x[4] <= 0.5\\ngini = 0.252\\nsamples = 27\\nvalue = [23, 4]'),\n",
              " Text(0.8645548880393228, 0.5, 'x[0] <= 2.5\\ngini = 0.287\\nsamples = 23\\nvalue = [19, 4]'),\n",
              " Text(0.860185690879301, 0.4523809523809524, 'gini = 0.0\\nsamples = 1\\nvalue = [1, 0]'),\n",
              " Text(0.8689240851993446, 0.4523809523809524, 'gini = 0.298\\nsamples = 22\\nvalue = [18, 4]'),\n",
              " Text(0.8732932823593664, 0.5, 'gini = 0.0\\nsamples = 4\\nvalue = [4, 0]'),\n",
              " Text(0.886400873839432, 0.6428571428571429, 'x[2] <= 18.5\\ngini = 0.5\\nsamples = 10\\nvalue = [5, 5]'),\n",
              " Text(0.8820316766794102, 0.5952380952380952, 'gini = 0.0\\nsamples = 2\\nvalue = [2, 0]'),\n",
              " Text(0.8907700709994538, 0.5952380952380952, 'x[3] <= 1.5\\ngini = 0.469\\nsamples = 8\\nvalue = [3, 5]'),\n",
              " Text(0.886400873839432, 0.5476190476190477, 'x[2] <= 24.941\\ngini = 0.49\\nsamples = 7\\nvalue = [3, 4]'),\n",
              " Text(0.8820316766794102, 0.5, 'gini = 0.0\\nsamples = 1\\nvalue = [0, 1]'),\n",
              " Text(0.8907700709994538, 0.5, 'gini = 0.5\\nsamples = 6\\nvalue = [3, 3]'),\n",
              " Text(0.8951392681594756, 0.5476190476190477, 'gini = 0.0\\nsamples = 1\\nvalue = [0, 1]'),\n",
              " Text(0.9257236482796286, 0.7380952380952381, 'x[4] <= 0.5\\ngini = 0.444\\nsamples = 21\\nvalue = [14, 7]'),\n",
              " Text(0.9213544511196068, 0.6904761904761905, 'x[3] <= 1.0\\ngini = 0.484\\nsamples = 17\\nvalue = [10, 7]'),\n",
              " Text(0.916985253959585, 0.6428571428571429, 'x[0] <= 2.5\\ngini = 0.5\\nsamples = 14\\nvalue = [7, 7]'),\n",
              " Text(0.9082468596395412, 0.5952380952380952, 'x[2] <= 31.5\\ngini = 0.375\\nsamples = 4\\nvalue = [3, 1]'),\n",
              " Text(0.9038776624795194, 0.5476190476190477, 'gini = 0.5\\nsamples = 2\\nvalue = [1, 1]'),\n",
              " Text(0.912616056799563, 0.5476190476190477, 'gini = 0.0\\nsamples = 2\\nvalue = [2, 0]'),\n",
              " Text(0.9257236482796286, 0.5952380952380952, 'x[2] <= 31.5\\ngini = 0.48\\nsamples = 10\\nvalue = [4, 6]'),\n",
              " Text(0.9213544511196068, 0.5476190476190477, 'gini = 0.5\\nsamples = 2\\nvalue = [1, 1]'),\n",
              " Text(0.9300928454396504, 0.5476190476190477, 'gini = 0.469\\nsamples = 8\\nvalue = [3, 5]'),\n",
              " Text(0.9257236482796286, 0.6428571428571429, 'gini = 0.0\\nsamples = 3\\nvalue = [3, 0]'),\n",
              " Text(0.9300928454396504, 0.6904761904761905, 'gini = 0.0\\nsamples = 4\\nvalue = [4, 0]'),\n",
              " Text(0.9792463134898962, 0.7857142857142857, 'x[2] <= 61.25\\ngini = 0.096\\nsamples = 119\\nvalue = [113, 6]'),\n",
              " Text(0.9672310212998362, 0.7380952380952381, 'x[2] <= 44.5\\ngini = 0.086\\nsamples = 111\\nvalue = [106, 5]'),\n",
              " Text(0.9628618241398144, 0.6904761904761905, 'x[2] <= 43.5\\ngini = 0.108\\nsamples = 87\\nvalue = [82, 5]'),\n",
              " Text(0.9519388312397596, 0.6428571428571429, 'x[4] <= 1.5\\ngini = 0.094\\nsamples = 81\\nvalue = [77, 4]'),\n",
              " Text(0.9475696340797378, 0.5952380952380952, 'x[4] <= 0.5\\ngini = 0.114\\nsamples = 66\\nvalue = [62, 4]'),\n",
              " Text(0.9388312397596942, 0.5476190476190477, 'x[0] <= 2.5\\ngini = 0.07\\nsamples = 55\\nvalue = [53, 2]'),\n",
              " Text(0.9344620425996724, 0.5, 'x[2] <= 34.5\\ngini = 0.198\\nsamples = 18\\nvalue = [16, 2]'),\n",
              " Text(0.9300928454396504, 0.4523809523809524, 'gini = 0.444\\nsamples = 3\\nvalue = [2, 1]'),\n",
              " Text(0.9388312397596942, 0.4523809523809524, 'x[2] <= 41.5\\ngini = 0.124\\nsamples = 15\\nvalue = [14, 1]'),\n",
              " Text(0.9344620425996724, 0.40476190476190477, 'gini = 0.0\\nsamples = 12\\nvalue = [12, 0]'),\n",
              " Text(0.943200436919716, 0.40476190476190477, 'gini = 0.444\\nsamples = 3\\nvalue = [2, 1]'),\n",
              " Text(0.943200436919716, 0.5, 'gini = 0.0\\nsamples = 37\\nvalue = [37, 0]'),\n",
              " Text(0.9563080283997816, 0.5476190476190477, 'x[3] <= 0.5\\ngini = 0.298\\nsamples = 11\\nvalue = [9, 2]'),\n",
              " Text(0.9519388312397596, 0.5, 'x[0] <= 2.5\\ngini = 0.18\\nsamples = 10\\nvalue = [9, 1]'),\n",
              " Text(0.9475696340797378, 0.4523809523809524, 'gini = 0.0\\nsamples = 7\\nvalue = [7, 0]'),\n",
              " Text(0.9563080283997816, 0.4523809523809524, 'x[2] <= 36.25\\ngini = 0.444\\nsamples = 3\\nvalue = [2, 1]'),\n",
              " Text(0.9519388312397596, 0.40476190476190477, 'gini = 0.0\\nsamples = 1\\nvalue = [1, 0]'),\n",
              " Text(0.9606772255598034, 0.40476190476190477, 'x[2] <= 39.25\\ngini = 0.5\\nsamples = 2\\nvalue = [1, 1]'),\n",
              " Text(0.9563080283997816, 0.35714285714285715, 'gini = 0.0\\nsamples = 1\\nvalue = [0, 1]'),\n",
              " Text(0.9650464227198252, 0.35714285714285715, 'gini = 0.0\\nsamples = 1\\nvalue = [1, 0]'),\n",
              " Text(0.9606772255598034, 0.5, 'gini = 0.0\\nsamples = 1\\nvalue = [0, 1]'),\n",
              " Text(0.9563080283997816, 0.5952380952380952, 'gini = 0.0\\nsamples = 15\\nvalue = [15, 0]'),\n",
              " Text(0.973784817039869, 0.6428571428571429, 'x[4] <= 0.5\\ngini = 0.278\\nsamples = 6\\nvalue = [5, 1]'),\n",
              " Text(0.969415619879847, 0.5952380952380952, 'x[0] <= 2.5\\ngini = 0.375\\nsamples = 4\\nvalue = [3, 1]'),\n",
              " Text(0.9650464227198252, 0.5476190476190477, 'gini = 0.0\\nsamples = 1\\nvalue = [1, 0]'),\n",
              " Text(0.973784817039869, 0.5476190476190477, 'gini = 0.444\\nsamples = 3\\nvalue = [2, 1]'),\n",
              " Text(0.9781540141998908, 0.5952380952380952, 'gini = 0.0\\nsamples = 2\\nvalue = [2, 0]'),\n",
              " Text(0.971600218459858, 0.6904761904761905, 'gini = 0.0\\nsamples = 24\\nvalue = [24, 0]'),\n",
              " Text(0.9912616056799564, 0.7380952380952381, 'x[2] <= 62.5\\ngini = 0.219\\nsamples = 8\\nvalue = [7, 1]'),\n",
              " Text(0.9868924085199344, 0.6904761904761905, 'x[3] <= 1.0\\ngini = 0.5\\nsamples = 2\\nvalue = [1, 1]'),\n",
              " Text(0.9825232113599126, 0.6428571428571429, 'gini = 0.0\\nsamples = 1\\nvalue = [0, 1]'),\n",
              " Text(0.9912616056799564, 0.6428571428571429, 'gini = 0.0\\nsamples = 1\\nvalue = [1, 0]'),\n",
              " Text(0.9956308028399782, 0.6904761904761905, 'gini = 0.0\\nsamples = 6\\nvalue = [6, 0]')]"
            ]
          },
          "metadata": {},
          "execution_count": 147
        },
        {
          "output_type": "display_data",
          "data": {
            "text/plain": [
              "<Figure size 640x480 with 1 Axes>"
            ],
            "image/png": "[encoded data removed]"
          },
          "metadata": {}
        }
      ]
    },
    {
      "cell_type": "markdown",
      "source": [
        "#### Save Pipeline"
      ],
      "metadata": {
        "id": "JVohlWIsdSZv"
      }
    },
    {
      "cell_type": "code",
      "source": [
        "import joblib"
      ],
      "metadata": {
        "id": "3Y5EnIL_dW-1"
      },
      "execution_count": 144,
      "outputs": []
    },
    {
      "cell_type": "code",
      "source": [
        "joblib.dump(dtc_pipeline, 'dtcPipeline.pkl')"
      ],
      "metadata": {
        "colab": {
          "base_uri": "https://localhost:8080/"
        },
        "id": "OP8FzMXjdOzV",
        "outputId": "2afa3e98-0e2c-4966-cd6a-b3ef6843830e"
      },
      "execution_count": 145,
      "outputs": [
        {
          "output_type": "execute_result",
          "data": {
            "text/plain": [
              "['dtcPipeline.pkl']"
            ]
          },
          "metadata": {},
          "execution_count": 145
        }
      ]
    }
  ]
}